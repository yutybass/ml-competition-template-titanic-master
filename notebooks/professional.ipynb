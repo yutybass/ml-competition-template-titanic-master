{
 "cells": [
  {
   "cell_type": "markdown",
   "metadata": {
    "id": "DFS2GUpqtBBd"
   },
   "source": [
    "# Titanic\n",
    "![](https://i.imgur.com/rRFchA8.png)"
   ]
  },
  {
   "cell_type": "markdown",
   "metadata": {
    "id": "vCeOa2dXtBBe"
   },
   "source": [
    "## 目次\n",
    "0. ライブラリ・データ読み込み\n",
    "1. データの概観・分析・前処理\n",
    "2. ベースラインモデルの構築\n",
    "3. 特徴量エンジニアリング\n",
    "4. 様々なモデルの構築・調整\n",
    "5. モデルのアンサンブリング\n",
    "6. 予測の出力・提出\n",
    "\n",
    "　機械学習を用いたデータ分析では多くの場合、上の目次に示すような工程で問題に取り組みます。ただしこの順番に沿って一方向的に進んでいくのではなく、前後の工程を行ったり来たりしながら作業は進んでいきます。このような工程に関しては、Mark Peng氏による\"General Tips for participating Kaggle Competitions\"という講演資料で示されたフローチャート（下図）がわかりやすいです。またKaggleそのものについての解説は、Sergey Yurgenson氏による\"Kaggle and Data Science\"がわかりやすいでしょう。\n",
    "\n",
    "\"General Tips for participating Kaggle Competitions\" : https://www.slideshare.net/markpeng/general-tips-for-participating-kaggle-competitions\n",
    "\n",
    "\"Kaggle and Data Science\" : https://www.slideshare.net/hijiki_s/kaggle-and-data-science\n",
    "\n",
    "![](https://image.slidesharecdn.com/kagglesharingmarkpeng20151216finalpresented-151216161621/95/general-tips-for-participating-kaggle-competitions-6-638.jpg?cb=1452565877)"
   ]
  },
  {
   "cell_type": "markdown",
   "metadata": {
    "id": "Kdep7AbutBBf"
   },
   "source": [
    "## 0. ライブラリ・データ読み込み  \n",
    "　まず初めに使用するライブラリを読み込みます。"
   ]
  },
  {
   "cell_type": "code",
   "execution_count": 1,
   "metadata": {
    "id": "Iu6aiGurtBBg"
   },
   "outputs": [],
   "source": [
    "import numpy as np\n",
    "import pandas as pd\n",
    "from pandas import DataFrame, Series\n",
    "import matplotlib.pyplot as plt\n",
    "import seaborn as sns\n",
    "\n",
    "from sklearn.model_selection import train_test_split, GridSearchCV\n",
    "from sklearn.ensemble import RandomForestClassifier\n",
    "from sklearn.linear_model import LogisticRegression\n",
    "from sklearn.neural_network import MLPClassifier\n",
    "\n",
    "import warnings\n",
    "warnings.filterwarnings('ignore')"
   ]
  },
  {
   "cell_type": "markdown",
   "metadata": {
    "id": "zGKCcHTZtBBk"
   },
   "source": [
    "　次にpandasのread_csv関数を用いて、分析する訓練データ**train.csv**とテストデータ**test.csv**を読み込みます。  \n",
    "　変数名に与えた**df**は、**DataFrame**を意味しています（変数名は何でも構いません）。テストデータは素直にdf_testと命名したのに対して訓練データはdfとだけ命名したのは、後に説明するホールドアウト法やクロスバリデーションにおいて、さらにdfを擬似的な訓練データdf_trainと擬似的なテストデータdf_validに分割することを見越してのものです。\\\n",
    "※ファイルの読み込み方法は自身の作業場所によって変わります。自分の環境に合わせたコード片方を選択してください。両方または自分の環境外のコードを選択するとエラーが起こるので気をつけて下さい。"
   ]
  },
  {
   "cell_type": "code",
   "execution_count": 2,
   "metadata": {
    "id": "5TL_v4iTtBBl"
   },
   "outputs": [],
   "source": [
    "# JupyterLabなどローカルで作業する場合\n",
    "# 読み込むデータが格納されたディレクトリのパス，必要に応じて変更の必要あり\n",
    "# データの読み込み方がわからない方は、別途配布している。GoogleColabにおけるドライブのマウントの仕方、と、Google Drive上でのフォルダ構造の説明のpdfファイルをご覧ください。\n",
    "\n",
    "path = \"../\"\n",
    "\n",
    "df = pd.read_csv(path + 'data/input/train.csv')\n",
    "df_test = pd.read_csv(path + 'data/input/test.csv')"
   ]
  },
  {
   "cell_type": "code",
   "execution_count": 3,
   "metadata": {
    "colab": {
     "base_uri": "https://localhost:8080/",
     "height": 34
    },
    "executionInfo": {
     "elapsed": 528,
     "status": "ok",
     "timestamp": 1602691372157,
     "user": {
      "displayName": "原田珠華",
      "photoUrl": "https://lh3.googleusercontent.com/a-/AOh14GjqZi6QsQd5-kns3RDxxMOGzIOvhAl8JdV1EYpQ=s64",
      "userId": "02584508976137612386"
     },
     "user_tz": -540
    },
    "id": "w9NDseFSxlDy",
    "outputId": "d6f63331-abac-4e65-fa44-af0fb908b148"
   },
   "outputs": [
    {
     "name": "stdout",
     "output_type": "stream",
     "text": [
      "(891, 12)\n"
     ]
    }
   ],
   "source": [
    "print(df.shape)"
   ]
  },
  {
   "cell_type": "markdown",
   "metadata": {
    "id": "B7tskdZKtBBr"
   },
   "source": [
    "## 1. データの概観・分析・前処理\n",
    "### 1.1 データの概観\n",
    "　データを見ていく上で、まず初めにデータのサイズを確認してみましょう。"
   ]
  },
  {
   "cell_type": "code",
   "execution_count": 4,
   "metadata": {
    "colab": {
     "base_uri": "https://localhost:8080/",
     "height": 51
    },
    "executionInfo": {
     "elapsed": 544,
     "status": "ok",
     "timestamp": 1602691374546,
     "user": {
      "displayName": "原田珠華",
      "photoUrl": "https://lh3.googleusercontent.com/a-/AOh14GjqZi6QsQd5-kns3RDxxMOGzIOvhAl8JdV1EYpQ=s64",
      "userId": "02584508976137612386"
     },
     "user_tz": -540
    },
    "id": "A1snWgQKtBBr",
    "outputId": "ac78553a-5934-4281-991f-b2a568dedad7"
   },
   "outputs": [
    {
     "name": "stdout",
     "output_type": "stream",
     "text": [
      "訓練データのデータ数は891、変数は12種類です。\n",
      "テストデータのデータ数は418、変数は11種類です\n"
     ]
    }
   ],
   "source": [
    "print('訓練データのデータ数は{}、変数は{}種類です。'.format(df.shape[0], df.shape[1]))\n",
    "print('テストデータのデータ数は{}、変数は{}種類です'.format(df_test.shape[0], df_test.shape[1]))"
   ]
  },
  {
   "cell_type": "markdown",
   "metadata": {
    "id": "2jYal-17tBBu"
   },
   "source": [
    "　訓練データの初めの10データを見てみましょう。"
   ]
  },
  {
   "cell_type": "code",
   "execution_count": 5,
   "metadata": {
    "colab": {
     "base_uri": "https://localhost:8080/",
     "height": 359
    },
    "executionInfo": {
     "elapsed": 538,
     "status": "ok",
     "timestamp": 1602691377096,
     "user": {
      "displayName": "原田珠華",
      "photoUrl": "https://lh3.googleusercontent.com/a-/AOh14GjqZi6QsQd5-kns3RDxxMOGzIOvhAl8JdV1EYpQ=s64",
      "userId": "02584508976137612386"
     },
     "user_tz": -540
    },
    "id": "oZxLfhYdtBBv",
    "outputId": "8ed7fa08-ba29-41a9-829a-91d242a6f540"
   },
   "outputs": [
    {
     "data": {
      "text/html": [
       "<div>\n",
       "<style scoped>\n",
       "    .dataframe tbody tr th:only-of-type {\n",
       "        vertical-align: middle;\n",
       "    }\n",
       "\n",
       "    .dataframe tbody tr th {\n",
       "        vertical-align: top;\n",
       "    }\n",
       "\n",
       "    .dataframe thead th {\n",
       "        text-align: right;\n",
       "    }\n",
       "</style>\n",
       "<table border=\"1\" class=\"dataframe\">\n",
       "  <thead>\n",
       "    <tr style=\"text-align: right;\">\n",
       "      <th></th>\n",
       "      <th>PassengerId</th>\n",
       "      <th>Perished</th>\n",
       "      <th>Pclass</th>\n",
       "      <th>Name</th>\n",
       "      <th>Sex</th>\n",
       "      <th>Age</th>\n",
       "      <th>SibSp</th>\n",
       "      <th>Parch</th>\n",
       "      <th>Ticket</th>\n",
       "      <th>Fare</th>\n",
       "      <th>Cabin</th>\n",
       "      <th>Embarked</th>\n",
       "    </tr>\n",
       "  </thead>\n",
       "  <tbody>\n",
       "    <tr>\n",
       "      <th>0</th>\n",
       "      <td>1</td>\n",
       "      <td>1</td>\n",
       "      <td>3</td>\n",
       "      <td>Braund, Mr. Owen Harris</td>\n",
       "      <td>male</td>\n",
       "      <td>22.0</td>\n",
       "      <td>1</td>\n",
       "      <td>0</td>\n",
       "      <td>A/5 21171</td>\n",
       "      <td>7.2500</td>\n",
       "      <td>NaN</td>\n",
       "      <td>S</td>\n",
       "    </tr>\n",
       "    <tr>\n",
       "      <th>1</th>\n",
       "      <td>2</td>\n",
       "      <td>0</td>\n",
       "      <td>1</td>\n",
       "      <td>Cumings, Mrs. John Bradley (Florence Briggs Th...</td>\n",
       "      <td>female</td>\n",
       "      <td>38.0</td>\n",
       "      <td>1</td>\n",
       "      <td>0</td>\n",
       "      <td>PC 17599</td>\n",
       "      <td>71.2833</td>\n",
       "      <td>C85</td>\n",
       "      <td>C</td>\n",
       "    </tr>\n",
       "    <tr>\n",
       "      <th>2</th>\n",
       "      <td>3</td>\n",
       "      <td>0</td>\n",
       "      <td>3</td>\n",
       "      <td>Heikkinen, Miss. Laina</td>\n",
       "      <td>female</td>\n",
       "      <td>26.0</td>\n",
       "      <td>0</td>\n",
       "      <td>0</td>\n",
       "      <td>STON/O2. 3101282</td>\n",
       "      <td>7.9250</td>\n",
       "      <td>NaN</td>\n",
       "      <td>S</td>\n",
       "    </tr>\n",
       "    <tr>\n",
       "      <th>3</th>\n",
       "      <td>4</td>\n",
       "      <td>0</td>\n",
       "      <td>1</td>\n",
       "      <td>Futrelle, Mrs. Jacques Heath (Lily May Peel)</td>\n",
       "      <td>female</td>\n",
       "      <td>35.0</td>\n",
       "      <td>1</td>\n",
       "      <td>0</td>\n",
       "      <td>113803</td>\n",
       "      <td>53.1000</td>\n",
       "      <td>C123</td>\n",
       "      <td>S</td>\n",
       "    </tr>\n",
       "    <tr>\n",
       "      <th>4</th>\n",
       "      <td>5</td>\n",
       "      <td>1</td>\n",
       "      <td>3</td>\n",
       "      <td>Allen, Mr. William Henry</td>\n",
       "      <td>male</td>\n",
       "      <td>35.0</td>\n",
       "      <td>0</td>\n",
       "      <td>0</td>\n",
       "      <td>373450</td>\n",
       "      <td>8.0500</td>\n",
       "      <td>NaN</td>\n",
       "      <td>S</td>\n",
       "    </tr>\n",
       "    <tr>\n",
       "      <th>5</th>\n",
       "      <td>6</td>\n",
       "      <td>1</td>\n",
       "      <td>3</td>\n",
       "      <td>Moran, Mr. James</td>\n",
       "      <td>male</td>\n",
       "      <td>NaN</td>\n",
       "      <td>0</td>\n",
       "      <td>0</td>\n",
       "      <td>330877</td>\n",
       "      <td>8.4583</td>\n",
       "      <td>NaN</td>\n",
       "      <td>Q</td>\n",
       "    </tr>\n",
       "    <tr>\n",
       "      <th>6</th>\n",
       "      <td>7</td>\n",
       "      <td>1</td>\n",
       "      <td>1</td>\n",
       "      <td>McCarthy, Mr. Timothy J</td>\n",
       "      <td>male</td>\n",
       "      <td>54.0</td>\n",
       "      <td>0</td>\n",
       "      <td>0</td>\n",
       "      <td>17463</td>\n",
       "      <td>51.8625</td>\n",
       "      <td>E46</td>\n",
       "      <td>S</td>\n",
       "    </tr>\n",
       "    <tr>\n",
       "      <th>7</th>\n",
       "      <td>8</td>\n",
       "      <td>1</td>\n",
       "      <td>3</td>\n",
       "      <td>Palsson, Master. Gosta Leonard</td>\n",
       "      <td>male</td>\n",
       "      <td>2.0</td>\n",
       "      <td>3</td>\n",
       "      <td>1</td>\n",
       "      <td>349909</td>\n",
       "      <td>21.0750</td>\n",
       "      <td>NaN</td>\n",
       "      <td>S</td>\n",
       "    </tr>\n",
       "    <tr>\n",
       "      <th>8</th>\n",
       "      <td>9</td>\n",
       "      <td>0</td>\n",
       "      <td>3</td>\n",
       "      <td>Johnson, Mrs. Oscar W (Elisabeth Vilhelmina Berg)</td>\n",
       "      <td>female</td>\n",
       "      <td>27.0</td>\n",
       "      <td>0</td>\n",
       "      <td>2</td>\n",
       "      <td>347742</td>\n",
       "      <td>11.1333</td>\n",
       "      <td>NaN</td>\n",
       "      <td>S</td>\n",
       "    </tr>\n",
       "    <tr>\n",
       "      <th>9</th>\n",
       "      <td>10</td>\n",
       "      <td>0</td>\n",
       "      <td>2</td>\n",
       "      <td>Nasser, Mrs. Nicholas (Adele Achem)</td>\n",
       "      <td>female</td>\n",
       "      <td>14.0</td>\n",
       "      <td>1</td>\n",
       "      <td>0</td>\n",
       "      <td>237736</td>\n",
       "      <td>30.0708</td>\n",
       "      <td>NaN</td>\n",
       "      <td>C</td>\n",
       "    </tr>\n",
       "  </tbody>\n",
       "</table>\n",
       "</div>"
      ],
      "text/plain": [
       "   PassengerId  Perished  Pclass  \\\n",
       "0            1         1       3   \n",
       "1            2         0       1   \n",
       "2            3         0       3   \n",
       "3            4         0       1   \n",
       "4            5         1       3   \n",
       "5            6         1       3   \n",
       "6            7         1       1   \n",
       "7            8         1       3   \n",
       "8            9         0       3   \n",
       "9           10         0       2   \n",
       "\n",
       "                                                Name     Sex   Age  SibSp  \\\n",
       "0                            Braund, Mr. Owen Harris    male  22.0      1   \n",
       "1  Cumings, Mrs. John Bradley (Florence Briggs Th...  female  38.0      1   \n",
       "2                             Heikkinen, Miss. Laina  female  26.0      0   \n",
       "3       Futrelle, Mrs. Jacques Heath (Lily May Peel)  female  35.0      1   \n",
       "4                           Allen, Mr. William Henry    male  35.0      0   \n",
       "5                                   Moran, Mr. James    male   NaN      0   \n",
       "6                            McCarthy, Mr. Timothy J    male  54.0      0   \n",
       "7                     Palsson, Master. Gosta Leonard    male   2.0      3   \n",
       "8  Johnson, Mrs. Oscar W (Elisabeth Vilhelmina Berg)  female  27.0      0   \n",
       "9                Nasser, Mrs. Nicholas (Adele Achem)  female  14.0      1   \n",
       "\n",
       "   Parch            Ticket     Fare Cabin Embarked  \n",
       "0      0         A/5 21171   7.2500   NaN        S  \n",
       "1      0          PC 17599  71.2833   C85        C  \n",
       "2      0  STON/O2. 3101282   7.9250   NaN        S  \n",
       "3      0            113803  53.1000  C123        S  \n",
       "4      0            373450   8.0500   NaN        S  \n",
       "5      0            330877   8.4583   NaN        Q  \n",
       "6      0             17463  51.8625   E46        S  \n",
       "7      1            349909  21.0750   NaN        S  \n",
       "8      2            347742  11.1333   NaN        S  \n",
       "9      0            237736  30.0708   NaN        C  "
      ]
     },
     "execution_count": 5,
     "metadata": {},
     "output_type": "execute_result"
    }
   ],
   "source": [
    "df.head(10)"
   ]
  },
  {
   "cell_type": "markdown",
   "metadata": {
    "id": "nruFKc7_tBBy"
   },
   "source": [
    "　変数名の一覧を見てみましょう。"
   ]
  },
  {
   "cell_type": "code",
   "execution_count": 6,
   "metadata": {
    "colab": {
     "base_uri": "https://localhost:8080/",
     "height": 68
    },
    "executionInfo": {
     "elapsed": 728,
     "status": "ok",
     "timestamp": 1602691379740,
     "user": {
      "displayName": "原田珠華",
      "photoUrl": "https://lh3.googleusercontent.com/a-/AOh14GjqZi6QsQd5-kns3RDxxMOGzIOvhAl8JdV1EYpQ=s64",
      "userId": "02584508976137612386"
     },
     "user_tz": -540
    },
    "id": "dL5O4BoltBBy",
    "outputId": "c4ccbb53-c907-46e1-c749-2b2e18b9b410"
   },
   "outputs": [
    {
     "data": {
      "text/plain": [
       "Index(['PassengerId', 'Perished', 'Pclass', 'Name', 'Sex', 'Age', 'SibSp',\n",
       "       'Parch', 'Ticket', 'Fare', 'Cabin', 'Embarked'],\n",
       "      dtype='object')"
      ]
     },
     "execution_count": 6,
     "metadata": {},
     "output_type": "execute_result"
    }
   ],
   "source": [
    "df.columns"
   ]
  },
  {
   "cell_type": "markdown",
   "metadata": {
    "id": "_b9HSHY2tBB1"
   },
   "source": [
    "　これらの変数名を、README.ipynbに示された変数の説明と対応付けておきましょう。  \n",
    "\n",
    "変数 |定義 |備考  \n",
    "---|---|---\n",
    "Perished |死亡したかどうか |0 = No, 1 = Yes\n",
    "Pclass |チケットのクラス |1 = 1st, 2 = 2nd, 3 = 3rd\n",
    "Name |名前 |\n",
    "Sex |性別 |\n",
    "Age\t|年齢 |\n",
    "SibSp |乗船していた兄弟姉妹・配偶者の数\t|\n",
    "Parch |乗船していた親・子供の数\t|\n",
    "Ticket |チケット番号\t|\n",
    "Fare |チケット料金\t|\n",
    "Cabin |キャビン番号\t|\n",
    "embarked |乗船した港\t|C = Cherbourg, Q = Queenstown, S = Southampton\n",
    "\n"
   ]
  },
  {
   "cell_type": "markdown",
   "metadata": {
    "id": "gQHs9iSDtBB2"
   },
   "source": [
    "### 1.2 データの分析\n",
    "　次に**EDA**と呼ばれる作業を行います。EDAとは、**Exploratory Data Analysis**の略で、日本語では**探索的データ分析**と訳されます。EDAでは、データを様々な角度から可視化したり、統計量を見ることで、データの特徴や構造を掴もうと試みます。この工程で得られた知見は機械学習モデルを選ぶ上でも、後に述べる特徴量エンジニアリングにおいても有用です。EDAで得た知見が役立つ理由の一つは、機械学習モデルによって仮定しているデータの特徴が異なることです。EDAによりデータに線型性・独立性・連続性などの特徴が観察できたり、後述の特徴量エンジニアリングでデータを加工することにより顕著な特徴を有した新しいデータを得ることができれば、それに適した機械学習モデルを用いることができます。  \n",
    "　以下に行うEDAは、\"EDA To Prediction (DieTanic)\"というAshwini Swain氏によるKaggle Notebookを参考にしたものです。\n",
    "  \n",
    "EDA To Prediction (DieTanic)：https://www.kaggle.com/ash316/eda-to-prediction-dietanic\n",
    "\n",
    "　まずは欠損値を確認しておきましょう。機械学習を用いたデータ分析に取り組む上で欠損値の確認は必須となっています。なぜならほとんどの機械学習モデルの実装は欠損値を含むデータに対して学習や予測ができず、エラーとなってしまうからです。"
   ]
  },
  {
   "cell_type": "code",
   "execution_count": 7,
   "metadata": {
    "colab": {
     "base_uri": "https://localhost:8080/",
     "height": 238
    },
    "executionInfo": {
     "elapsed": 534,
     "status": "ok",
     "timestamp": 1602691388993,
     "user": {
      "displayName": "原田珠華",
      "photoUrl": "https://lh3.googleusercontent.com/a-/AOh14GjqZi6QsQd5-kns3RDxxMOGzIOvhAl8JdV1EYpQ=s64",
      "userId": "02584508976137612386"
     },
     "user_tz": -540
    },
    "id": "RnlN426etBB2",
    "outputId": "f827b950-8b79-4a9f-b65d-ead73eeeb9b6"
   },
   "outputs": [
    {
     "data": {
      "text/plain": [
       "PassengerId      0\n",
       "Perished         0\n",
       "Pclass           0\n",
       "Name             0\n",
       "Sex              0\n",
       "Age            177\n",
       "SibSp            0\n",
       "Parch            0\n",
       "Ticket           0\n",
       "Fare             0\n",
       "Cabin          687\n",
       "Embarked         2\n",
       "dtype: int64"
      ]
     },
     "execution_count": 7,
     "metadata": {},
     "output_type": "execute_result"
    }
   ],
   "source": [
    "df.isnull().sum() "
   ]
  },
  {
   "cell_type": "code",
   "execution_count": 8,
   "metadata": {
    "colab": {
     "base_uri": "https://localhost:8080/",
     "height": 221
    },
    "executionInfo": {
     "elapsed": 496,
     "status": "ok",
     "timestamp": 1602691392161,
     "user": {
      "displayName": "原田珠華",
      "photoUrl": "https://lh3.googleusercontent.com/a-/AOh14GjqZi6QsQd5-kns3RDxxMOGzIOvhAl8JdV1EYpQ=s64",
      "userId": "02584508976137612386"
     },
     "user_tz": -540
    },
    "id": "KqyVHK_ftBB5",
    "outputId": "c3014f73-df32-42f0-d61f-bca3c45d8c42"
   },
   "outputs": [
    {
     "data": {
      "text/plain": [
       "PassengerId      0\n",
       "Pclass           0\n",
       "Name             0\n",
       "Sex              0\n",
       "Age             86\n",
       "SibSp            0\n",
       "Parch            0\n",
       "Ticket           0\n",
       "Fare             1\n",
       "Cabin          327\n",
       "Embarked         0\n",
       "dtype: int64"
      ]
     },
     "execution_count": 8,
     "metadata": {},
     "output_type": "execute_result"
    }
   ],
   "source": [
    "df_test.isnull().sum()"
   ]
  },
  {
   "cell_type": "markdown",
   "metadata": {
    "id": "3BASgoqJtBB9"
   },
   "source": [
    "　**Age**、**Fare**, **Cabin**、**Embarked**の値の一部が欠損していることがわかりました。これらには後で対処することとします。  \n",
    "\n",
    "　次に生存者の割合をみてみましょう。"
   ]
  },
  {
   "cell_type": "code",
   "execution_count": 9,
   "metadata": {
    "colab": {
     "base_uri": "https://localhost:8080/",
     "height": 513
    },
    "executionInfo": {
     "elapsed": 765,
     "status": "ok",
     "timestamp": 1602691395049,
     "user": {
      "displayName": "原田珠華",
      "photoUrl": "https://lh3.googleusercontent.com/a-/AOh14GjqZi6QsQd5-kns3RDxxMOGzIOvhAl8JdV1EYpQ=s64",
      "userId": "02584508976137612386"
     },
     "user_tz": -540
    },
    "id": "3ZbIq5tvtBB-",
    "outputId": "76c1df3d-86c7-4c61-9649-299ece3e6b26"
   },
   "outputs": [
    {
     "data": {
      "image/png": "[encoded data removed]",
      "text/plain": [
       "<Figure size 1296x576 with 2 Axes>"
      ]
     },
     "metadata": {},
     "output_type": "display_data"
    }
   ],
   "source": [
    "f,ax=plt.subplots(1,2,figsize=(18,8), facecolor='gray')\n",
    "df['Perished'].value_counts().plot.pie(explode=[0,0.1],autopct='%1.1f%%',ax=ax[0],shadow=True)\n",
    "ax[0].set_title('Perished')\n",
    "ax[0].set_ylabel('')\n",
    "sns.countplot('Perished',data=df,ax=ax[1])\n",
    "ax[1].set_title('Perished')\n",
    "plt.show()"
   ]
  },
  {
   "cell_type": "markdown",
   "metadata": {
    "id": "-XIyfER-tBCA"
   },
   "source": [
    "生存率は38.4%であることがわかりました。分析対象となるデータには様々ありますが、一つの分類に**均衡データ**/**不均衡データ**というものがあります。不均衡データとは、主に予測対象のラベルの分布が著しく偏ったデータのことであり、病気の陽性/陰性などがその代表例です。不均衡データを分析する際には、データの前処理やモデルの構築、評価指標の選び方など様々な点において注意しなければなりません。しかし今回の予測対象であるPerishedは生存:死亡がおよそ4:6と均衡しているので、そうした心配の必要はありません。  \n",
    "\n",
    "　次にデータの型について見てみましょう。機械学習を用いてデータ分析を行う際には、データの型にも注意が必要です。なぜならほとんどの機械学習モデルの実装はカテゴリカル変数を含むデータに対して学習や予測ができず、エラーとなってしまうからです。  \n",
    "　データの型には大別して**数値データ**と**カテゴリカルデータ**があります。他にも日付・時間データなどがあったり、連続値データ/離散値データの区別があったりしますが、ここでは扱いません。数値データは文字通り数値が格納されたデータであり、カテゴリカルデータは主に文字列によってその分類が示されたデータです。ただしデータが数値であっても、その値の大小や順序が意味を持たない場合にはカテゴリカルデータとして扱う必要がある点には注意が必要です。  \n",
    "　この観点では今回のデータは以下のように分類されます。\n",
    "- 数値データ：Pclass, Age, SibSp, Parch, Fare\n",
    "- カテゴリカルデータ：Name, Sex, Ticket, Embarked \n",
    " \n",
    "　これらのカテゴリカルデータは機械学習モデルで扱えるよう、後で適切に処理します。　　\n",
    "\n",
    "　ここからは一つ一つの変数について見ていきましょう。ただし、ここではデモンストレーションとして一部しか扱いません。またデータ分析コンペティションでは、必ずしも全てのEDAを自分で一から行う必要はありません。基本的なEDAは多くの場合Kaggle Notebookとして共有されますし、pandas-profilingなどの便利なライブラリを用いれば済んでしまうからです。しかし他の参加者との差別化を図るには、自らEDAで得た知見を活用する必要があります。また実務においてEDAを肩代わりしてくれる人はいません。これらの理由から、やはり自分である程度のEDAをこなせる必要はあるでしょう。\n",
    "\n",
    "　まずは**Pclass**（チケットのクラス）について見ていきます。"
   ]
  },
  {
   "cell_type": "code",
   "execution_count": 10,
   "metadata": {
    "colab": {
     "base_uri": "https://localhost:8080/",
     "height": 513
    },
    "executionInfo": {
     "elapsed": 881,
     "status": "ok",
     "timestamp": 1602691398193,
     "user": {
      "displayName": "原田珠華",
      "photoUrl": "https://lh3.googleusercontent.com/a-/AOh14GjqZi6QsQd5-kns3RDxxMOGzIOvhAl8JdV1EYpQ=s64",
      "userId": "02584508976137612386"
     },
     "user_tz": -540
    },
    "id": "-9PeNrgYtBCB",
    "outputId": "cfc78e2e-7101-4bf2-b226-43e05867ac54"
   },
   "outputs": [
    {
     "data": {
      "image/png": "[encoded data removed]",
      "text/plain": [
       "<Figure size 1296x576 with 2 Axes>"
      ]
     },
     "metadata": {},
     "output_type": "display_data"
    }
   ],
   "source": [
    "f,ax=plt.subplots(1,2,figsize=(18,8), facecolor='gray')\n",
    "df['Pclass'].value_counts().plot.bar(color=['#CD7F32','#FFDF00','#D3D3D3'],ax=ax[0])\n",
    "ax[0].set_title('Number of Passengers By Pclass')\n",
    "ax[0].set_ylabel('Count')\n",
    "sns.countplot('Pclass',hue='Perished',data=df,ax=ax[1])\n",
    "ax[1].set_title('Pclass:Perished vs Survived')\n",
    "plt.show()"
   ]
  },
  {
   "cell_type": "markdown",
   "metadata": {
    "id": "POE5f95VtBCD"
   },
   "source": [
    "　Pclassごとに人数および死亡率が著しく異なっていることが見て取れます。特にPclass=3は人数が圧倒的に多く、死亡率が著しく高いことがわかります。一方でPclass=1は死亡率が非常に低くなっています。Pclassはチケットのクラスでしたから、ここに見た事実は、Pclassの値が小さいほどチケットのグレードが高いことを直ちに示唆しています。他にはどのような知見が得られるか考えてみましょう。\n",
    "\n",
    "　次に**Age**（年齢）について見てみます。"
   ]
  },
  {
   "cell_type": "code",
   "execution_count": 11,
   "metadata": {
    "colab": {
     "base_uri": "https://localhost:8080/",
     "height": 513
    },
    "executionInfo": {
     "elapsed": 1249,
     "status": "ok",
     "timestamp": 1602691401963,
     "user": {
      "displayName": "原田珠華",
      "photoUrl": "https://lh3.googleusercontent.com/a-/AOh14GjqZi6QsQd5-kns3RDxxMOGzIOvhAl8JdV1EYpQ=s64",
      "userId": "02584508976137612386"
     },
     "user_tz": -540
    },
    "id": "9rAe4voOtBCF",
    "outputId": "80952d6e-4d15-4a2b-d07a-f1d1aeda3ddd"
   },
   "outputs": [
    {
     "data": {
      "image/png": "[encoded data removed]",
      "text/plain": [
       "<Figure size 1296x576 with 2 Axes>"
      ]
     },
     "metadata": {},
     "output_type": "display_data"
    }
   ],
   "source": [
    "f,ax=plt.subplots(1,2,figsize=(18,8), facecolor='gray')\n",
    "sns.violinplot(\"Pclass\",\"Age\", hue=\"Perished\", data=df,split=True,ax=ax[0])\n",
    "ax[0].set_title('Pclass and Age vs Perished')\n",
    "ax[0].set_yticks(range(0,110,10))\n",
    "sns.violinplot(\"Sex\",\"Age\", hue=\"Perished\", data=df,split=True,ax=ax[1])\n",
    "ax[1].set_title('Sex and Age vs Perished')\n",
    "ax[1].set_yticks(range(0,110,10))\n",
    "plt.show()"
   ]
  },
  {
   "cell_type": "markdown",
   "metadata": {
    "id": "2sv4tdxztBCK"
   },
   "source": [
    "　このような図を**バイオリン図**と言います。身近なところでは人口推計の男女別年齢分布が似たような図で示されています。この図からどのような知見が得られるでしょうか。最も顕著な傾向の一つは男性の幼年層に見られます。10歳以下の男性は死亡率が著しく低くなっています。この事実はタイタニック号の事故において幼い男の子が優先的に助けられたことを示唆しています。他にはどのような知見が得られるか考えてみましょう。\n",
    "\n",
    "　最後に**相関行列**の**ヒートマップ**を表示してみましょう。相関行列とは各成分に対応する相関係数を並べた行列のことであり、値の大小に応じて色をつけたものをヒートマップと呼びます。この図を表示することによって、変数間の相関の強さを一目で把握することができます。"
   ]
  },
  {
   "cell_type": "code",
   "execution_count": 12,
   "metadata": {
    "colab": {
     "base_uri": "https://localhost:8080/",
     "height": 537
    },
    "executionInfo": {
     "elapsed": 1160,
     "status": "ok",
     "timestamp": 1602691404455,
     "user": {
      "displayName": "原田珠華",
      "photoUrl": "https://lh3.googleusercontent.com/a-/AOh14GjqZi6QsQd5-kns3RDxxMOGzIOvhAl8JdV1EYpQ=s64",
      "userId": "02584508976137612386"
     },
     "user_tz": -540
    },
    "id": "eiGF_ftttBCL",
    "outputId": "e73c8e00-1df6-4e33-ea9b-14a188d3f30b"
   },
   "outputs": [
    {
     "data": {
      "image/png": "[encoded data removed]",
      "text/plain": [
       "<Figure size 720x576 with 2 Axes>"
      ]
     },
     "metadata": {
      "needs_background": "light"
     },
     "output_type": "display_data"
    }
   ],
   "source": [
    "sns.heatmap(df.corr(),annot=True,cmap='bwr',linewidths=0.2)\n",
    "fig=plt.gcf()\n",
    "fig.set_size_inches(10,8)\n",
    "plt.show()"
   ]
  },
  {
   "cell_type": "markdown",
   "metadata": {
    "id": "ov3x9TiXtBCN"
   },
   "source": [
    "　この図から、SibSpとParchの値に比較的強い正の相関があることがわかります。SibSpは同乗していた兄弟姉妹・配偶者の数であり、Parchは同乗していた親・子供の数であったので、この事実は理解しやすいでしょう。ここでSibSpの値とParchの値の和をとって「同乗していた家族の人数」という新しい変数を加えるアイデアが得られます。なぜならSibSpとParchという不自然な分類で二つの変数に分割してあるよりも「同乗していた家族の人数」という変数の方が自然である可能性があるからです。 \n",
    "\n",
    "　他にもPclassとFareの値に比較的強い負の相関が見られます。この事実は、先に見たようにPclassの値が小さいほどチケットのグレードが高いという見立てを補強しています。この見立ては正しいと見ていいでしょう。  \n",
    "\n",
    "　このように相関が強い変数がある場合には注意が必要です。相関の強い変数を機械学習モデルの学習に用いると、一部のモデルでは**多重共線性**という問題が生じます。そのため著しく相関の強い変数がある場合は、その変数のうち一つだけを残して他の変数を削除するといった対策をすることがあります。ここでは相関が強すぎるという程では無いと見て、こうした対策は行いませんが、自分で試してみても良いでしょう。"
   ]
  },
  {
   "cell_type": "markdown",
   "metadata": {
    "id": "SqyMDmWXtBCN"
   },
   "source": [
    "## 1.3 データの前処理\n",
    "　ここでは、機械学習モデルが学習できるようにデータの前処理を行なっていきます。\n",
    " \n",
    "　まずは**欠損値**の補完です。先に見たようにAge、Fare, Cabin、Embarkedの4変数は一部が欠損していました。欠損値の補完には様々な手法があります。平均値や最頻値といった代表値で補完する手法、機械学習モデルで予測して予測値で補完する手法、-9999などの外れ値で補完することによって欠損していたという情報を保持する手法などが挙げられます。\n",
    "  \n",
    "　AgeとFareは数値データなので安直に平均値で補完してみましょう。この点で改善の余地は非常に大きいです。例えばNameに含まれる'Miss'と'Mrs'という敬称で平均年齢にズレがあるだろうことは容易に想像できます。余裕があればこのアイデアを実装してみたり、別のアイデアを考えてみたりしてみましょう。名案を思いついたが実装までは難しいという場合でも、他の受講生に実装のアドバイスを求めたり、そのアイデアについて議論してみたりしましょう。"
   ]
  },
  {
   "cell_type": "code",
   "execution_count": 13,
   "metadata": {
    "colab": {
     "base_uri": "https://localhost:8080/",
     "height": 238
    },
    "executionInfo": {
     "elapsed": 480,
     "status": "ok",
     "timestamp": 1602691406804,
     "user": {
      "displayName": "原田珠華",
      "photoUrl": "https://lh3.googleusercontent.com/a-/AOh14GjqZi6QsQd5-kns3RDxxMOGzIOvhAl8JdV1EYpQ=s64",
      "userId": "02584508976137612386"
     },
     "user_tz": -540
    },
    "id": "hUrZG3fJtBCO",
    "outputId": "16ef50da-2755-4f40-8b5f-e0fe9491f04c"
   },
   "outputs": [
    {
     "data": {
      "text/plain": [
       "PassengerId      0\n",
       "Perished         0\n",
       "Pclass           0\n",
       "Name             0\n",
       "Sex              0\n",
       "Age              0\n",
       "SibSp            0\n",
       "Parch            0\n",
       "Ticket           0\n",
       "Fare             0\n",
       "Cabin          687\n",
       "Embarked         2\n",
       "dtype: int64"
      ]
     },
     "execution_count": 13,
     "metadata": {},
     "output_type": "execute_result"
    }
   ],
   "source": [
    "age = pd.concat([df['Age'], df_test['Age']])\n",
    "fare = pd.concat([df['Fare'], df_test['Fare']])\n",
    "\n",
    "df['Age'].fillna(age.mean(), inplace=True)\n",
    "df_test['Age'].fillna(age.mean(), inplace=True)\n",
    "\n",
    "df['Fare'].fillna(fare.mean(), inplace=True)\n",
    "df_test['Fare'].fillna(fare.mean(), inplace=True)\n",
    "\n",
    "df.isnull().sum() "
   ]
  },
  {
   "cell_type": "markdown",
   "metadata": {
    "id": "l1XtfmHKtBCR"
   },
   "source": [
    "　このように、とりあえずAgeの欠損値を補完することができました。  \n",
    "　次はCabinですが、欠損値の数が全体の8割近いので、削除してしまいます。削除しないでどうにか補完する方法を考えてみても良いでしょう。欠損しているかしていないかという情報も有意であることがあるので、そのような情報を保つような補完の方法でも良いかもしれません。"
   ]
  },
  {
   "cell_type": "code",
   "execution_count": 14,
   "metadata": {
    "colab": {
     "base_uri": "https://localhost:8080/",
     "height": 221
    },
    "executionInfo": {
     "elapsed": 493,
     "status": "ok",
     "timestamp": 1602691409048,
     "user": {
      "displayName": "原田珠華",
      "photoUrl": "https://lh3.googleusercontent.com/a-/AOh14GjqZi6QsQd5-kns3RDxxMOGzIOvhAl8JdV1EYpQ=s64",
      "userId": "02584508976137612386"
     },
     "user_tz": -540
    },
    "id": "1cdHbPIotBCR",
    "outputId": "de4bb566-6e46-4c5a-ada9-2b86ffc6de59"
   },
   "outputs": [
    {
     "data": {
      "text/plain": [
       "PassengerId    0\n",
       "Perished       0\n",
       "Pclass         0\n",
       "Name           0\n",
       "Sex            0\n",
       "Age            0\n",
       "SibSp          0\n",
       "Parch          0\n",
       "Ticket         0\n",
       "Fare           0\n",
       "Embarked       2\n",
       "dtype: int64"
      ]
     },
     "execution_count": 14,
     "metadata": {},
     "output_type": "execute_result"
    }
   ],
   "source": [
    "df.drop('Cabin', axis=1, inplace=True)\n",
    "df_test.drop('Cabin', axis=1, inplace=True)\n",
    "\n",
    "df.isnull().sum()"
   ]
  },
  {
   "cell_type": "markdown",
   "metadata": {
    "id": "T84S3Vx7tBCU"
   },
   "source": [
    "　このようにCabinの欠損にも対処できました。  \n",
    "　最後にEmbarkedの欠損値です。まずEmbarkedの分布を見てみましょう。"
   ]
  },
  {
   "cell_type": "code",
   "execution_count": 15,
   "metadata": {
    "colab": {
     "base_uri": "https://localhost:8080/",
     "height": 295
    },
    "executionInfo": {
     "elapsed": 609,
     "status": "ok",
     "timestamp": 1602691411478,
     "user": {
      "displayName": "原田珠華",
      "photoUrl": "https://lh3.googleusercontent.com/a-/AOh14GjqZi6QsQd5-kns3RDxxMOGzIOvhAl8JdV1EYpQ=s64",
      "userId": "02584508976137612386"
     },
     "user_tz": -540
    },
    "id": "R6V3YyyftBCV",
    "outputId": "edfdd59f-2b59-4c40-a6e6-061eb866958e"
   },
   "outputs": [
    {
     "data": {
      "image/png": "[encoded data removed]",
      "text/plain": [
       "<Figure size 432x288 with 1 Axes>"
      ]
     },
     "metadata": {
      "needs_background": "light"
     },
     "output_type": "display_data"
    }
   ],
   "source": [
    "sns.countplot('Embarked',data=df)\n",
    "plt.title('Number of Passengers Boarded')\n",
    "plt.show()"
   ]
  },
  {
   "cell_type": "markdown",
   "metadata": {
    "id": "ih19FLFYtBCX"
   },
   "source": [
    "　Embarked(乗船した港)は'S'(Southampton)が圧倒的に多いので、Embarkedの二件の欠損値は'S'で補完しておきましょう。"
   ]
  },
  {
   "cell_type": "code",
   "execution_count": 16,
   "metadata": {
    "colab": {
     "base_uri": "https://localhost:8080/",
     "height": 221
    },
    "executionInfo": {
     "elapsed": 532,
     "status": "ok",
     "timestamp": 1602691413625,
     "user": {
      "displayName": "原田珠華",
      "photoUrl": "https://lh3.googleusercontent.com/a-/AOh14GjqZi6QsQd5-kns3RDxxMOGzIOvhAl8JdV1EYpQ=s64",
      "userId": "02584508976137612386"
     },
     "user_tz": -540
    },
    "id": "pbs6wQ7_tBCY",
    "outputId": "67683da7-daff-4059-cadb-41fd39e203e8"
   },
   "outputs": [
    {
     "data": {
      "text/plain": [
       "PassengerId    0\n",
       "Perished       0\n",
       "Pclass         0\n",
       "Name           0\n",
       "Sex            0\n",
       "Age            0\n",
       "SibSp          0\n",
       "Parch          0\n",
       "Ticket         0\n",
       "Fare           0\n",
       "Embarked       0\n",
       "dtype: int64"
      ]
     },
     "execution_count": 16,
     "metadata": {},
     "output_type": "execute_result"
    }
   ],
   "source": [
    "df['Embarked'].fillna('S', inplace=True)\n",
    "df_test['Embarked'].fillna('S', inplace=True)\n",
    "\n",
    "df.isnull().sum()"
   ]
  },
  {
   "cell_type": "markdown",
   "metadata": {
    "id": "_d2KphYhtBCd"
   },
   "source": [
    "　こうして全ての欠損値に対処することができました。\n",
    "\n",
    "　次に**カテゴリカルデータ**を機械学習モデルで扱えるよう処理します。カテゴリカルデータには、Name, Sex, Ticket, Embarkedがありました。  \n",
    "　まずはName, Ticketについてです。これらは扱いが難しいためこのデモンストレーションでは削除します。しかしこれはあまり良い判断ではありません。なぜなら前述のように'Miss'や'Mr'といった敬称が有意な情報を持っている可能性があるからです。またファミリーネームから、誰と誰が家族かという情報を得ることができる可能性もあります。Ticketに関しても同様になんらかの情報が得られる可能性は十分あります。余裕があればEDAで手がかりを探してみたり、アイデアを実装してみたりしましょう。"
   ]
  },
  {
   "cell_type": "code",
   "execution_count": 17,
   "metadata": {
    "colab": {
     "base_uri": "https://localhost:8080/",
     "height": 68
    },
    "executionInfo": {
     "elapsed": 496,
     "status": "ok",
     "timestamp": 1602691415863,
     "user": {
      "displayName": "原田珠華",
      "photoUrl": "https://lh3.googleusercontent.com/a-/AOh14GjqZi6QsQd5-kns3RDxxMOGzIOvhAl8JdV1EYpQ=s64",
      "userId": "02584508976137612386"
     },
     "user_tz": -540
    },
    "id": "hIIWhc46tBCd",
    "outputId": "948ac6e2-34f3-4e0a-d2cc-ae64fa25f63b"
   },
   "outputs": [
    {
     "data": {
      "text/plain": [
       "Index(['PassengerId', 'Perished', 'Pclass', 'Sex', 'Age', 'SibSp', 'Parch',\n",
       "       'Fare', 'Embarked'],\n",
       "      dtype='object')"
      ]
     },
     "execution_count": 17,
     "metadata": {},
     "output_type": "execute_result"
    }
   ],
   "source": [
    "df.drop('Name', axis=1, inplace=True)\n",
    "df_test.drop('Name', axis=1, inplace=True)\n",
    "\n",
    "df.drop('Ticket', axis=1, inplace=True)\n",
    "df_test.drop('Ticket', axis=1, inplace=True)\n",
    "\n",
    "df.columns"
   ]
  },
  {
   "cell_type": "markdown",
   "metadata": {
    "id": "l5kJojsPtBCi"
   },
   "source": [
    "　次にSex（性別）です。このような二値のカテゴリカル変数は、一方を0、もう一方を1とすることで数値化することができます。ここでは男性を0、女性を1としておきます。"
   ]
  },
  {
   "cell_type": "code",
   "execution_count": 18,
   "metadata": {
    "colab": {
     "base_uri": "https://localhost:8080/",
     "height": 204
    },
    "executionInfo": {
     "elapsed": 529,
     "status": "ok",
     "timestamp": 1602691418074,
     "user": {
      "displayName": "原田珠華",
      "photoUrl": "https://lh3.googleusercontent.com/a-/AOh14GjqZi6QsQd5-kns3RDxxMOGzIOvhAl8JdV1EYpQ=s64",
      "userId": "02584508976137612386"
     },
     "user_tz": -540
    },
    "id": "k2PetrdVtBCj",
    "outputId": "6483f2e3-7460-40ea-a2ed-6b74e94018e6"
   },
   "outputs": [
    {
     "data": {
      "text/html": [
       "<div>\n",
       "<style scoped>\n",
       "    .dataframe tbody tr th:only-of-type {\n",
       "        vertical-align: middle;\n",
       "    }\n",
       "\n",
       "    .dataframe tbody tr th {\n",
       "        vertical-align: top;\n",
       "    }\n",
       "\n",
       "    .dataframe thead th {\n",
       "        text-align: right;\n",
       "    }\n",
       "</style>\n",
       "<table border=\"1\" class=\"dataframe\">\n",
       "  <thead>\n",
       "    <tr style=\"text-align: right;\">\n",
       "      <th></th>\n",
       "      <th>PassengerId</th>\n",
       "      <th>Perished</th>\n",
       "      <th>Pclass</th>\n",
       "      <th>Sex</th>\n",
       "      <th>Age</th>\n",
       "      <th>SibSp</th>\n",
       "      <th>Parch</th>\n",
       "      <th>Fare</th>\n",
       "      <th>Embarked</th>\n",
       "    </tr>\n",
       "  </thead>\n",
       "  <tbody>\n",
       "    <tr>\n",
       "      <th>0</th>\n",
       "      <td>1</td>\n",
       "      <td>1</td>\n",
       "      <td>3</td>\n",
       "      <td>0</td>\n",
       "      <td>22.0</td>\n",
       "      <td>1</td>\n",
       "      <td>0</td>\n",
       "      <td>7.2500</td>\n",
       "      <td>S</td>\n",
       "    </tr>\n",
       "    <tr>\n",
       "      <th>1</th>\n",
       "      <td>2</td>\n",
       "      <td>0</td>\n",
       "      <td>1</td>\n",
       "      <td>1</td>\n",
       "      <td>38.0</td>\n",
       "      <td>1</td>\n",
       "      <td>0</td>\n",
       "      <td>71.2833</td>\n",
       "      <td>C</td>\n",
       "    </tr>\n",
       "    <tr>\n",
       "      <th>2</th>\n",
       "      <td>3</td>\n",
       "      <td>0</td>\n",
       "      <td>3</td>\n",
       "      <td>1</td>\n",
       "      <td>26.0</td>\n",
       "      <td>0</td>\n",
       "      <td>0</td>\n",
       "      <td>7.9250</td>\n",
       "      <td>S</td>\n",
       "    </tr>\n",
       "    <tr>\n",
       "      <th>3</th>\n",
       "      <td>4</td>\n",
       "      <td>0</td>\n",
       "      <td>1</td>\n",
       "      <td>1</td>\n",
       "      <td>35.0</td>\n",
       "      <td>1</td>\n",
       "      <td>0</td>\n",
       "      <td>53.1000</td>\n",
       "      <td>S</td>\n",
       "    </tr>\n",
       "    <tr>\n",
       "      <th>4</th>\n",
       "      <td>5</td>\n",
       "      <td>1</td>\n",
       "      <td>3</td>\n",
       "      <td>0</td>\n",
       "      <td>35.0</td>\n",
       "      <td>0</td>\n",
       "      <td>0</td>\n",
       "      <td>8.0500</td>\n",
       "      <td>S</td>\n",
       "    </tr>\n",
       "  </tbody>\n",
       "</table>\n",
       "</div>"
      ],
      "text/plain": [
       "   PassengerId  Perished  Pclass  Sex   Age  SibSp  Parch     Fare Embarked\n",
       "0            1         1       3    0  22.0      1      0   7.2500        S\n",
       "1            2         0       1    1  38.0      1      0  71.2833        C\n",
       "2            3         0       3    1  26.0      0      0   7.9250        S\n",
       "3            4         0       1    1  35.0      1      0  53.1000        S\n",
       "4            5         1       3    0  35.0      0      0   8.0500        S"
      ]
     },
     "execution_count": 18,
     "metadata": {},
     "output_type": "execute_result"
    }
   ],
   "source": [
    "df.replace({'Sex': {'male': 0, 'female': 1}}, inplace=True)\n",
    "df_test.replace({'Sex': {'male': 0, 'female': 1}}, inplace=True)\n",
    "\n",
    "df.head()"
   ]
  },
  {
   "cell_type": "markdown",
   "metadata": {
    "id": "D5l_2AOytBCn"
   },
   "source": [
    "　最後にEmbarked（乗船した港）です。先ほど見たようにEmbarkedには'S', 'C', 'Q'の3種類の値があります。男女を0と1で置き換えたように、'S', 'C', 'Q'を0, 1, 2で置き換えれば良いでしょうか？答えは一般には\"No\"です。なぜなら'S'<'C'<'Q'のような大小関係は存在せず、'Q'-'C'='C'-'S'のように値の間隔が意味をもつ訳でもないからです。ではどのようにEmbarkedというカテゴリカルデータを数値化すれば良いのでしょう。その一つの手法はOne-Hot Encodingです。One-Hot Encodingとは、下図のようにしてカテゴリカルデータを0と1に変換する手法です。　　\n",
    "\n",
    "![](https://blog.datascienceheroes.com/content/images/2019/07/one-hot-encoding.png)"
   ]
  },
  {
   "cell_type": "code",
   "execution_count": 19,
   "metadata": {
    "colab": {
     "base_uri": "https://localhost:8080/",
     "height": 204
    },
    "executionInfo": {
     "elapsed": 531,
     "status": "ok",
     "timestamp": 1602691420778,
     "user": {
      "displayName": "原田珠華",
      "photoUrl": "https://lh3.googleusercontent.com/a-/AOh14GjqZi6QsQd5-kns3RDxxMOGzIOvhAl8JdV1EYpQ=s64",
      "userId": "02584508976137612386"
     },
     "user_tz": -540
    },
    "id": "r4XglWRTtBCn",
    "outputId": "4ed2ec4d-7f44-4a89-88c5-1dac64a1d0b7"
   },
   "outputs": [
    {
     "data": {
      "text/html": [
       "<div>\n",
       "<style scoped>\n",
       "    .dataframe tbody tr th:only-of-type {\n",
       "        vertical-align: middle;\n",
       "    }\n",
       "\n",
       "    .dataframe tbody tr th {\n",
       "        vertical-align: top;\n",
       "    }\n",
       "\n",
       "    .dataframe thead th {\n",
       "        text-align: right;\n",
       "    }\n",
       "</style>\n",
       "<table border=\"1\" class=\"dataframe\">\n",
       "  <thead>\n",
       "    <tr style=\"text-align: right;\">\n",
       "      <th></th>\n",
       "      <th>PassengerId</th>\n",
       "      <th>Perished</th>\n",
       "      <th>Pclass</th>\n",
       "      <th>Sex</th>\n",
       "      <th>Age</th>\n",
       "      <th>SibSp</th>\n",
       "      <th>Parch</th>\n",
       "      <th>Fare</th>\n",
       "      <th>C</th>\n",
       "      <th>Q</th>\n",
       "      <th>S</th>\n",
       "    </tr>\n",
       "  </thead>\n",
       "  <tbody>\n",
       "    <tr>\n",
       "      <th>0</th>\n",
       "      <td>1</td>\n",
       "      <td>1</td>\n",
       "      <td>3</td>\n",
       "      <td>0</td>\n",
       "      <td>22.0</td>\n",
       "      <td>1</td>\n",
       "      <td>0</td>\n",
       "      <td>7.2500</td>\n",
       "      <td>0</td>\n",
       "      <td>0</td>\n",
       "      <td>1</td>\n",
       "    </tr>\n",
       "    <tr>\n",
       "      <th>1</th>\n",
       "      <td>2</td>\n",
       "      <td>0</td>\n",
       "      <td>1</td>\n",
       "      <td>1</td>\n",
       "      <td>38.0</td>\n",
       "      <td>1</td>\n",
       "      <td>0</td>\n",
       "      <td>71.2833</td>\n",
       "      <td>1</td>\n",
       "      <td>0</td>\n",
       "      <td>0</td>\n",
       "    </tr>\n",
       "    <tr>\n",
       "      <th>2</th>\n",
       "      <td>3</td>\n",
       "      <td>0</td>\n",
       "      <td>3</td>\n",
       "      <td>1</td>\n",
       "      <td>26.0</td>\n",
       "      <td>0</td>\n",
       "      <td>0</td>\n",
       "      <td>7.9250</td>\n",
       "      <td>0</td>\n",
       "      <td>0</td>\n",
       "      <td>1</td>\n",
       "    </tr>\n",
       "    <tr>\n",
       "      <th>3</th>\n",
       "      <td>4</td>\n",
       "      <td>0</td>\n",
       "      <td>1</td>\n",
       "      <td>1</td>\n",
       "      <td>35.0</td>\n",
       "      <td>1</td>\n",
       "      <td>0</td>\n",
       "      <td>53.1000</td>\n",
       "      <td>0</td>\n",
       "      <td>0</td>\n",
       "      <td>1</td>\n",
       "    </tr>\n",
       "    <tr>\n",
       "      <th>4</th>\n",
       "      <td>5</td>\n",
       "      <td>1</td>\n",
       "      <td>3</td>\n",
       "      <td>0</td>\n",
       "      <td>35.0</td>\n",
       "      <td>0</td>\n",
       "      <td>0</td>\n",
       "      <td>8.0500</td>\n",
       "      <td>0</td>\n",
       "      <td>0</td>\n",
       "      <td>1</td>\n",
       "    </tr>\n",
       "  </tbody>\n",
       "</table>\n",
       "</div>"
      ],
      "text/plain": [
       "   PassengerId  Perished  Pclass  Sex   Age  SibSp  Parch     Fare  C  Q  S\n",
       "0            1         1       3    0  22.0      1      0   7.2500  0  0  1\n",
       "1            2         0       1    1  38.0      1      0  71.2833  1  0  0\n",
       "2            3         0       3    1  26.0      0      0   7.9250  0  0  1\n",
       "3            4         0       1    1  35.0      1      0  53.1000  0  0  1\n",
       "4            5         1       3    0  35.0      0      0   8.0500  0  0  1"
      ]
     },
     "execution_count": 19,
     "metadata": {},
     "output_type": "execute_result"
    }
   ],
   "source": [
    "embarked = pd.concat([df['Embarked'], df_test['Embarked']])\n",
    "\n",
    "embarked_ohe = pd.get_dummies(embarked)\n",
    "\n",
    "embarked_ohe_train = embarked_ohe[:891]\n",
    "embarked_ohe_test = embarked_ohe[891:]\n",
    "\n",
    "df = pd.concat([df, embarked_ohe_train], axis=1)\n",
    "df_test = pd.concat([df_test, embarked_ohe_test], axis=1)\n",
    "\n",
    "df.drop('Embarked', axis=1, inplace=True)\n",
    "df_test.drop('Embarked', axis=1, inplace=True)\n",
    "\n",
    "df.head()"
   ]
  },
  {
   "cell_type": "markdown",
   "metadata": {
    "id": "T0qVHr_8tBCq"
   },
   "source": [
    "　このようにして、全てのカテゴリカルデータを処理することができました。"
   ]
  },
  {
   "cell_type": "markdown",
   "metadata": {
    "id": "XdnZbcg0tBCq"
   },
   "source": [
    "## 2. ベースラインモデルの構築"
   ]
  },
  {
   "cell_type": "markdown",
   "metadata": {
    "id": "gYPNH1aVtBCq"
   },
   "source": [
    "　ここでようやくモデルの構築に入ります。モデルの構築においては、まずベースラインとなるモデルを作成することが多いです。ベースラインモデルは、機械学習モデルが学習できる形にデータが整形されているか確認することや、改良されたモデルと比較して改良の効果を評価することが主な目的です。ベースラインモデルは、あまり学習に時間のかからないモデルを用います。ここでは、ベースラインモデルとしてよく用いられるランダムフォレストを使用します。ランダムフォレストのアルゴリズムについては講義で学びますが、簡単に説明すると複数の決定木の多数決によって予測を行う機械学習モデルになります。  \n",
    "　まずdfとdf_testを**説明変数**と**目的変数**に分けます。\n",
    "- 説明変数：モデルの学習に使用する変数、今回の問題ではPassengerId, Perished以外の変数\n",
    "- 目的変数：予測対象の変数, 今回の問題ではPerished \n",
    "\n",
    "　ここでスライスしたdfとdf_testを.valuesとしてnumpy.ndarray型に変換しているのは、機械学習モデルの実装によってはこの型のデータしか受け付けないからです。"
   ]
  },
  {
   "cell_type": "code",
   "execution_count": 20,
   "metadata": {
    "id": "5FioAWb7tBCr"
   },
   "outputs": [],
   "source": [
    "X = df.iloc[:, 2:].values\n",
    "y = df.iloc[:, 1].values\n",
    "\n",
    "X_test = df_test.iloc[:, 1:].values"
   ]
  },
  {
   "cell_type": "markdown",
   "metadata": {
    "id": "d6dYYGKotBCu"
   },
   "source": [
    "　機械学習モデルにとって最大の障害の一つは**過学習**です。過学習とは機械学習モデルが訓練データを学習する際に、訓練データに対して正しい予測を与えようとするあまり、訓練データにしか良い予測を与えられず、テストデータや他のデータに対して役に立たなくなってしまう現象のことです。\n",
    "\n",
    "　この現象を回避するための手法の一つに**ホールドアウト法**があります。ホールドアウト法では、与えられた訓練データをさらに擬似訓練データと擬似テストデータに分割し、機械学習モデルを擬似訓練データで学習させます。その上で、擬似訓練データに対する予測精度と擬似テストデータに対する予測精度を比較して、二つの値に大きな解離が見られる場合には過学習が発生していると判断し、過学習を抑えるよう修正を加えます。  \n",
    "\n",
    "　今回は7:3で元の訓練データを分割して、擬似訓練データ(X_train, y_train)と擬似テストデータ(X_valid, y_valid)とします。変数名は何でも構いませんが、ここで用いたvalidとはvalidation(検証)の略です。これは擬似テストデータをモデルの予測精度の検証に用いることに由来します。\n",
    "\n",
    "　データの分割には、scikit-learnのtrain_test_split関数を使用しますが、分割はランダムに行われるため、再現性を保つためには乱数生成のシード値を引数random_stateで指定する必要があります。この値を42とする例が海外を中心に散見されるのは、この数字が、有名なSF作品「銀河ヒッチハイク・ガイド」で「生命、宇宙、そして万物についての究極の疑問の答え」とされているからだそうです。\n",
    "\n",
    "　ホールドアウト法の拡張には、**クロスバリデーション**があります。クロスバリデーションについては後で改めて解説します。"
   ]
  },
  {
   "cell_type": "code",
   "execution_count": 21,
   "metadata": {
    "id": "7wEMNuLDtBCu"
   },
   "outputs": [],
   "source": [
    "X_train, X_valid, y_train, y_valid = train_test_split(X, y, test_size=0.3, random_state=42)"
   ]
  },
  {
   "cell_type": "markdown",
   "metadata": {
    "id": "jIo5rKbhtBCz"
   },
   "source": [
    "　ランダムフォレストモデルを作成して、擬似訓練データ(X_train, y_train)を学習させます。ランダムフォレストモデルを作成する際に指定できる主な引数は以下の通りです。不明な用語がいくつかあるかもしれませんが、いずれ講義で解説があります。またこれら以外にも様々な引数があるので、公式ドキュメントなどを参照してみてください。\n",
    "- max_depth：決定木の深さの最大値\n",
    "- min_samples_leaf：葉が含むサンプル数の最小値\n",
    "- n_estimators：決定木の数\n",
    "- n_jobs：計算に用いるスレッド数\n",
    "- random_state：乱数生成のシード値"
   ]
  },
  {
   "cell_type": "code",
   "execution_count": 22,
   "metadata": {
    "colab": {
     "base_uri": "https://localhost:8080/",
     "height": 153
    },
    "executionInfo": {
     "elapsed": 627,
     "status": "ok",
     "timestamp": 1602691429502,
     "user": {
      "displayName": "原田珠華",
      "photoUrl": "https://lh3.googleusercontent.com/a-/AOh14GjqZi6QsQd5-kns3RDxxMOGzIOvhAl8JdV1EYpQ=s64",
      "userId": "02584508976137612386"
     },
     "user_tz": -540
    },
    "id": "moInQjCctBCz",
    "outputId": "36d66864-affc-4352-b9f7-90acc2dfe2cc"
   },
   "outputs": [
    {
     "data": {
      "text/plain": [
       "RandomForestClassifier(max_depth=10, n_jobs=-1, random_state=42)"
      ]
     },
     "execution_count": 22,
     "metadata": {},
     "output_type": "execute_result"
    }
   ],
   "source": [
    "rfc = RandomForestClassifier(max_depth=10, min_samples_leaf=1, n_estimators=100, n_jobs=-1, random_state=42)\n",
    "rfc.fit(X_train, y_train)"
   ]
  },
  {
   "cell_type": "markdown",
   "metadata": {
    "id": "XCfTfxFbtBC6"
   },
   "source": [
    "　このモデルによる予測精度の評価を、今回のコンペティションで指定された評価基準である**正解率(accuracy)**で行います。先述したように、擬似訓練データ(X_train, y_train)に対するスコアと擬似テストデータ(X_valid, y_valid)に対するスコアを見ます。これらの値が著しく解離している場合には、**過学習**が発生しているとして修正を行います。"
   ]
  },
  {
   "cell_type": "code",
   "execution_count": 23,
   "metadata": {
    "colab": {
     "base_uri": "https://localhost:8080/",
     "height": 51
    },
    "executionInfo": {
     "elapsed": 663,
     "status": "ok",
     "timestamp": 1602691433917,
     "user": {
      "displayName": "原田珠華",
      "photoUrl": "https://lh3.googleusercontent.com/a-/AOh14GjqZi6QsQd5-kns3RDxxMOGzIOvhAl8JdV1EYpQ=s64",
      "userId": "02584508976137612386"
     },
     "user_tz": -540
    },
    "id": "AHEX2mKLtBC7",
    "outputId": "ba8fed31-8622-414e-825f-2f8ca96ba272"
   },
   "outputs": [
    {
     "name": "stdout",
     "output_type": "stream",
     "text": [
      "Train Score: 0.953\n",
      " Test Score: 0.791\n"
     ]
    }
   ],
   "source": [
    "print('Train Score: {}'.format(round(rfc.score(X_train, y_train), 3)))\n",
    "print(' Test Score: {}'.format(round(rfc.score(X_valid, y_valid), 3)))"
   ]
  },
  {
   "cell_type": "markdown",
   "metadata": {
    "id": "VwK4Y-AntBC9"
   },
   "source": [
    "　擬似訓練データに対する正解率が約95%であるのに対して、擬似テストデータに対する正解率が約79%となっています。これは明らかに**過学習**が発生している状況となっています。テストデータに対して良い予測を得るためにはこの状況を改善することが不可欠です。  \n",
    "　過学習を解決するためには機械学習の**ハイパーパラメータ**を調整する必要があります。ハイパーパラメータとは、機械学習モデルを作成する際に予め指定する必要のあるパラメータであり、データを学習しても更新されません。ランダムフォレストモデルの場合はmax_depth(決定木の深さの最大値)やmin_samples_leaf(葉が含むサンプル数の最小値)などがそれにあたります。例えば、max_depthの値を大きく設定するほど過学習の傾向が強まりますが、逆にmax_depthの値が小さすぎるとそもそもモデルの精度が得られません（この状況を過学習に対して**未学習**と呼びます）。  \n",
    "　過学習に起因する誤差を**バリアンス**、未学習に起因する誤差を**バイアス**と呼びますが、バリアンスとバイアスはトレードオフの関係にあります。そのため良いモデルを作成するためには、バリアンスとバイアスの両方を抑えられるようなハイパーパラメータを見つける必要があります。このようなハイパーパラメータを見つける方法には、**グリッドサーチ**と呼ばれるものや、**ベイズ最適化**を用いるものなどがあります。ここではグリッドサーチを紹介します。  \n",
    "　グリッドサーチとは、複数のハイパーパラメータを同時に最適化するため，離散的に指定されたハイパーパラメータの組に基づいて，しらみつぶしにモデルの予測精度を評価する手法です。ここではmax_depthの候補として(3, 5, 7)、min_samples_leafの候補として(1, 2, 4)を取ってみましょう。"
   ]
  },
  {
   "cell_type": "code",
   "execution_count": 24,
   "metadata": {
    "colab": {
     "base_uri": "https://localhost:8080/",
     "height": 323
    },
    "executionInfo": {
     "elapsed": 4690,
     "status": "ok",
     "timestamp": 1602691441139,
     "user": {
      "displayName": "原田珠華",
      "photoUrl": "https://lh3.googleusercontent.com/a-/AOh14GjqZi6QsQd5-kns3RDxxMOGzIOvhAl8JdV1EYpQ=s64",
      "userId": "02584508976137612386"
     },
     "user_tz": -540
    },
    "id": "5FvIfsZQtBC9",
    "outputId": "4e080017-eb36-4fd9-f054-03580569c8c8"
   },
   "outputs": [
    {
     "name": "stdout",
     "output_type": "stream",
     "text": [
      "max_depth: 3, min_samples_leaf: 1\n",
      "    Train Score: 0.844, Test Score: 0.821\n",
      "max_depth: 3, min_samples_leaf: 2\n",
      "    Train Score: 0.844, Test Score: 0.821\n",
      "max_depth: 3, min_samples_leaf: 4\n",
      "    Train Score: 0.844, Test Score: 0.817\n",
      "max_depth: 5, min_samples_leaf: 1\n",
      "    Train Score: 0.88, Test Score: 0.821\n",
      "max_depth: 5, min_samples_leaf: 2\n",
      "    Train Score: 0.867, Test Score: 0.806\n",
      "max_depth: 5, min_samples_leaf: 4\n",
      "    Train Score: 0.864, Test Score: 0.802\n",
      "max_depth: 7, min_samples_leaf: 1\n",
      "    Train Score: 0.899, Test Score: 0.81\n",
      "max_depth: 7, min_samples_leaf: 2\n",
      "    Train Score: 0.889, Test Score: 0.787\n",
      "max_depth: 7, min_samples_leaf: 4\n",
      "    Train Score: 0.876, Test Score: 0.791\n"
     ]
    }
   ],
   "source": [
    "param_grid = {'max_depth': [3, 5, 7],\n",
    "              'min_samples_leaf': [1, 2, 4]}\n",
    "\n",
    "for max_depth in param_grid['max_depth']:\n",
    "    for min_samples_leaf in param_grid['min_samples_leaf']:\n",
    "        rfc_grid = RandomForestClassifier(max_depth=max_depth, min_samples_leaf=min_samples_leaf, \n",
    "                                            n_estimators=100, n_jobs=-1, random_state=42)\n",
    "        rfc_grid.fit(X_train, y_train)\n",
    "        print('max_depth: {}, min_samples_leaf: {}'.format(max_depth, min_samples_leaf))\n",
    "        print('    Train Score: {}, Test Score: {}'.format(round(rfc_grid.score(X_train, y_train), 3),\n",
    "                                                           round(rfc_grid.score(X_valid, y_valid), 3)))"
   ]
  },
  {
   "cell_type": "markdown",
   "metadata": {
    "id": "IE3WQabStBC_"
   },
   "source": [
    "　このグリッドサーチは、先に軽く触れた**クロスバリデーション**と組み合わせて行われることが多いです。クロスバリデーションはホールドアウト法の拡張となっています。ホールドアウト法では訓練データを擬似訓練データと擬似テストデータの二つに分けましたが、クロスバリデーションでは自然数Nを指定してデータをN個に分割します。こうして分割されたN個のデータのうち1つを擬似テストデータ、残りを擬似訓練データとして学習と評価を行います。N個のデータがそれぞれ一回ずつ擬似テストデータとなるようN回の学習と評価を行い、得られたスコアの平均をそのモデルのスコアとします。下図を参照してください。  \n",
    "　このようにすることで、モデルの擬似テストデータに対するスコアがデータの分割方法に依らなくなることが期待されます。ホールドアウト法では、データを2つに分けてしまうため、データの分割方法によっては擬似訓練データと擬似テストデータに偏りが生じてしまいますが、クロスバリデーションではそのような可能性が平均操作により軽減されます。\n",
    "\n",
    "![](http://musashi.osdn.jp/tutorial/mining/xtclassify/nfold.jpg)\n",
    "\n",
    "　今回は訓練データを5分割してクロスバリデーションしてみましょう。"
   ]
  },
  {
   "cell_type": "code",
   "execution_count": 25,
   "metadata": {
    "colab": {
     "base_uri": "https://localhost:8080/",
     "height": 51
    },
    "executionInfo": {
     "elapsed": 16192,
     "status": "ok",
     "timestamp": 1602691460518,
     "user": {
      "displayName": "原田珠華",
      "photoUrl": "https://lh3.googleusercontent.com/a-/AOh14GjqZi6QsQd5-kns3RDxxMOGzIOvhAl8JdV1EYpQ=s64",
      "userId": "02584508976137612386"
     },
     "user_tz": -540
    },
    "id": "4eCHttpvtBDA",
    "outputId": "1da11855-dd1d-44df-e0da-2ab4a41fa0ed"
   },
   "outputs": [
    {
     "name": "stdout",
     "output_type": "stream",
     "text": [
      "Best Parameters: {'max_depth': 7, 'min_samples_leaf': 2}\n",
      "CV Score: 0.824\n"
     ]
    }
   ],
   "source": [
    "rfc_gs = GridSearchCV(RandomForestClassifier(n_estimators=100, n_jobs=-1, random_state=42), param_grid, cv=5)\n",
    "rfc_gs.fit(X, y)\n",
    "\n",
    "print('Best Parameters: {}'.format(rfc_gs.best_params_))\n",
    "print('CV Score: {}'.format(round(rfc_gs.best_score_, 3)))"
   ]
  },
  {
   "cell_type": "markdown",
   "metadata": {
    "id": "WTeZ3y59tBDC"
   },
   "source": [
    "　ここではとりあえず、max_depth=7, min_samples_leaf=1と設定したランダムフォレストが得られました。データ分析コンペティションに取り組む際には、より詳細にハイパーパラメータをチューニングすべきです。しかしまだベースラインモデルの構築段階なので、まだここでは本格的にパラメータチューニングする必要は無いでしょう。"
   ]
  },
  {
   "cell_type": "markdown",
   "metadata": {
    "id": "6akb_UaltBDD"
   },
   "source": [
    "## 3. 特徴量エンジニアリング\n",
    "　次に**特徴量エンジニアリング**に取り組みます。特徴量エンジニアリングとは、説明変数に手を加えることでモデルの学習に効果的な変数（**特徴量**）を作成しようという試みです．特徴量エンジニアリングには、大きく分けて二つの方向性があります。一つは問題設定に依らない汎用的な手法を用いるものです。カテゴリカルデータの**エンコーディング**や**交差項**の作成などがこれにあたります。例えば、カテゴリ値のエンコーディングには先に紹介した**One-Hot Encoding**の他にも、**Label Encoding**、**Count Encoding**、**LabelCount Encoding**、**Target Encoding**、**Likelyhood Encoding**など様々あります。カテゴリ値のエンコーディングに関してはHJ van Veen氏の\"Feature Engineering\"が参考になります。\n",
    "\n",
    "\"Feature Engineering\": https://www.slideshare.net/HJvanVeen/feature-engineering-72376750  \n",
    "\n",
    "　また交差項とは、複数の説明変数の積です。交差項を特徴量として追加することによって、モデルの表現力が向上する場合があります。ただ交差項といっても何次の交差項まで考えるのか、何変数の交差項まで考えるのかなど、検証すべき点は多く存在します。また積だけでなく、四則演算や一般の演算に拡張することもできます。\n",
    "\n",
    "　もう一つの方針は，**ドメイン知識**に基づく特徴量エンジニアリングです．ドメイン知識とは，それぞれ問題に特有な背景知識のことです．今回の問題の場合は「海難事故だから、こうした特徴量が鍵を握っているだろう」といった背景的な知識に基づいて特徴量を作り込んで行くことになります。\n",
    "\n",
    "　データ分析コンペティションで最も大きく差の付く要因の一つがこの特徴量エンジニアリングです。ここでは、EDAから得られたアイデアである「SibSpの値とParchの値の和をとって、Family(同乗していた家族の人数)という新しい変数を加える」を試してみましょう。"
   ]
  },
  {
   "cell_type": "code",
   "execution_count": 26,
   "metadata": {
    "colab": {
     "base_uri": "https://localhost:8080/",
     "height": 359
    },
    "executionInfo": {
     "elapsed": 515,
     "status": "ok",
     "timestamp": 1602691465927,
     "user": {
      "displayName": "原田珠華",
      "photoUrl": "https://lh3.googleusercontent.com/a-/AOh14GjqZi6QsQd5-kns3RDxxMOGzIOvhAl8JdV1EYpQ=s64",
      "userId": "02584508976137612386"
     },
     "user_tz": -540
    },
    "id": "cxt9lVIKtBDE",
    "outputId": "c0921b89-b11b-4d04-8ad4-b6ea88833cac"
   },
   "outputs": [
    {
     "data": {
      "text/html": [
       "<div>\n",
       "<style scoped>\n",
       "    .dataframe tbody tr th:only-of-type {\n",
       "        vertical-align: middle;\n",
       "    }\n",
       "\n",
       "    .dataframe tbody tr th {\n",
       "        vertical-align: top;\n",
       "    }\n",
       "\n",
       "    .dataframe thead th {\n",
       "        text-align: right;\n",
       "    }\n",
       "</style>\n",
       "<table border=\"1\" class=\"dataframe\">\n",
       "  <thead>\n",
       "    <tr style=\"text-align: right;\">\n",
       "      <th></th>\n",
       "      <th>PassengerId</th>\n",
       "      <th>Perished</th>\n",
       "      <th>Pclass</th>\n",
       "      <th>Sex</th>\n",
       "      <th>Age</th>\n",
       "      <th>SibSp</th>\n",
       "      <th>Parch</th>\n",
       "      <th>Fare</th>\n",
       "      <th>C</th>\n",
       "      <th>Q</th>\n",
       "      <th>S</th>\n",
       "      <th>Family</th>\n",
       "    </tr>\n",
       "  </thead>\n",
       "  <tbody>\n",
       "    <tr>\n",
       "      <th>0</th>\n",
       "      <td>1</td>\n",
       "      <td>1</td>\n",
       "      <td>3</td>\n",
       "      <td>0</td>\n",
       "      <td>22.000000</td>\n",
       "      <td>1</td>\n",
       "      <td>0</td>\n",
       "      <td>7.2500</td>\n",
       "      <td>0</td>\n",
       "      <td>0</td>\n",
       "      <td>1</td>\n",
       "      <td>1</td>\n",
       "    </tr>\n",
       "    <tr>\n",
       "      <th>1</th>\n",
       "      <td>2</td>\n",
       "      <td>0</td>\n",
       "      <td>1</td>\n",
       "      <td>1</td>\n",
       "      <td>38.000000</td>\n",
       "      <td>1</td>\n",
       "      <td>0</td>\n",
       "      <td>71.2833</td>\n",
       "      <td>1</td>\n",
       "      <td>0</td>\n",
       "      <td>0</td>\n",
       "      <td>1</td>\n",
       "    </tr>\n",
       "    <tr>\n",
       "      <th>2</th>\n",
       "      <td>3</td>\n",
       "      <td>0</td>\n",
       "      <td>3</td>\n",
       "      <td>1</td>\n",
       "      <td>26.000000</td>\n",
       "      <td>0</td>\n",
       "      <td>0</td>\n",
       "      <td>7.9250</td>\n",
       "      <td>0</td>\n",
       "      <td>0</td>\n",
       "      <td>1</td>\n",
       "      <td>0</td>\n",
       "    </tr>\n",
       "    <tr>\n",
       "      <th>3</th>\n",
       "      <td>4</td>\n",
       "      <td>0</td>\n",
       "      <td>1</td>\n",
       "      <td>1</td>\n",
       "      <td>35.000000</td>\n",
       "      <td>1</td>\n",
       "      <td>0</td>\n",
       "      <td>53.1000</td>\n",
       "      <td>0</td>\n",
       "      <td>0</td>\n",
       "      <td>1</td>\n",
       "      <td>1</td>\n",
       "    </tr>\n",
       "    <tr>\n",
       "      <th>4</th>\n",
       "      <td>5</td>\n",
       "      <td>1</td>\n",
       "      <td>3</td>\n",
       "      <td>0</td>\n",
       "      <td>35.000000</td>\n",
       "      <td>0</td>\n",
       "      <td>0</td>\n",
       "      <td>8.0500</td>\n",
       "      <td>0</td>\n",
       "      <td>0</td>\n",
       "      <td>1</td>\n",
       "      <td>0</td>\n",
       "    </tr>\n",
       "    <tr>\n",
       "      <th>5</th>\n",
       "      <td>6</td>\n",
       "      <td>1</td>\n",
       "      <td>3</td>\n",
       "      <td>0</td>\n",
       "      <td>29.881138</td>\n",
       "      <td>0</td>\n",
       "      <td>0</td>\n",
       "      <td>8.4583</td>\n",
       "      <td>0</td>\n",
       "      <td>1</td>\n",
       "      <td>0</td>\n",
       "      <td>0</td>\n",
       "    </tr>\n",
       "    <tr>\n",
       "      <th>6</th>\n",
       "      <td>7</td>\n",
       "      <td>1</td>\n",
       "      <td>1</td>\n",
       "      <td>0</td>\n",
       "      <td>54.000000</td>\n",
       "      <td>0</td>\n",
       "      <td>0</td>\n",
       "      <td>51.8625</td>\n",
       "      <td>0</td>\n",
       "      <td>0</td>\n",
       "      <td>1</td>\n",
       "      <td>0</td>\n",
       "    </tr>\n",
       "    <tr>\n",
       "      <th>7</th>\n",
       "      <td>8</td>\n",
       "      <td>1</td>\n",
       "      <td>3</td>\n",
       "      <td>0</td>\n",
       "      <td>2.000000</td>\n",
       "      <td>3</td>\n",
       "      <td>1</td>\n",
       "      <td>21.0750</td>\n",
       "      <td>0</td>\n",
       "      <td>0</td>\n",
       "      <td>1</td>\n",
       "      <td>4</td>\n",
       "    </tr>\n",
       "    <tr>\n",
       "      <th>8</th>\n",
       "      <td>9</td>\n",
       "      <td>0</td>\n",
       "      <td>3</td>\n",
       "      <td>1</td>\n",
       "      <td>27.000000</td>\n",
       "      <td>0</td>\n",
       "      <td>2</td>\n",
       "      <td>11.1333</td>\n",
       "      <td>0</td>\n",
       "      <td>0</td>\n",
       "      <td>1</td>\n",
       "      <td>2</td>\n",
       "    </tr>\n",
       "    <tr>\n",
       "      <th>9</th>\n",
       "      <td>10</td>\n",
       "      <td>0</td>\n",
       "      <td>2</td>\n",
       "      <td>1</td>\n",
       "      <td>14.000000</td>\n",
       "      <td>1</td>\n",
       "      <td>0</td>\n",
       "      <td>30.0708</td>\n",
       "      <td>1</td>\n",
       "      <td>0</td>\n",
       "      <td>0</td>\n",
       "      <td>1</td>\n",
       "    </tr>\n",
       "  </tbody>\n",
       "</table>\n",
       "</div>"
      ],
      "text/plain": [
       "   PassengerId  Perished  Pclass  Sex        Age  SibSp  Parch     Fare  C  Q  \\\n",
       "0            1         1       3    0  22.000000      1      0   7.2500  0  0   \n",
       "1            2         0       1    1  38.000000      1      0  71.2833  1  0   \n",
       "2            3         0       3    1  26.000000      0      0   7.9250  0  0   \n",
       "3            4         0       1    1  35.000000      1      0  53.1000  0  0   \n",
       "4            5         1       3    0  35.000000      0      0   8.0500  0  0   \n",
       "5            6         1       3    0  29.881138      0      0   8.4583  0  1   \n",
       "6            7         1       1    0  54.000000      0      0  51.8625  0  0   \n",
       "7            8         1       3    0   2.000000      3      1  21.0750  0  0   \n",
       "8            9         0       3    1  27.000000      0      2  11.1333  0  0   \n",
       "9           10         0       2    1  14.000000      1      0  30.0708  1  0   \n",
       "\n",
       "   S  Family  \n",
       "0  1       1  \n",
       "1  0       1  \n",
       "2  1       0  \n",
       "3  1       1  \n",
       "4  1       0  \n",
       "5  0       0  \n",
       "6  1       0  \n",
       "7  1       4  \n",
       "8  1       2  \n",
       "9  0       1  "
      ]
     },
     "execution_count": 26,
     "metadata": {},
     "output_type": "execute_result"
    }
   ],
   "source": [
    "df_fe = df.copy()\n",
    "df_fe_test = df_test.copy()\n",
    "\n",
    "df_fe['Family'] = df['SibSp'] + df['Parch']\n",
    "df_fe_test['Family'] = df_test['SibSp'] + df_test['Parch']\n",
    "\n",
    "df_fe.head(10)"
   ]
  },
  {
   "cell_type": "markdown",
   "metadata": {
    "id": "QFYlLuc3tBDH"
   },
   "source": [
    "　このようにして得られた新たなデータを、先ほどのベースラインモデルと同様の構成のランダムフォレストに学習させてみます。"
   ]
  },
  {
   "cell_type": "code",
   "execution_count": 27,
   "metadata": {
    "colab": {
     "base_uri": "https://localhost:8080/",
     "height": 51
    },
    "executionInfo": {
     "elapsed": 1042,
     "status": "ok",
     "timestamp": 1602691469057,
     "user": {
      "displayName": "原田珠華",
      "photoUrl": "https://lh3.googleusercontent.com/a-/AOh14GjqZi6QsQd5-kns3RDxxMOGzIOvhAl8JdV1EYpQ=s64",
      "userId": "02584508976137612386"
     },
     "user_tz": -540
    },
    "id": "kptO9Q9UtBDI",
    "outputId": "f796f248-5f2f-466c-d10f-041004d7e7c3"
   },
   "outputs": [
    {
     "name": "stdout",
     "output_type": "stream",
     "text": [
      "Train Score: 0.905\n",
      " Test Score: 0.802\n"
     ]
    }
   ],
   "source": [
    "X_fe = df_fe.iloc[:, 2:].values\n",
    "y_fe = df_fe.iloc[:, 1].values\n",
    "\n",
    "X_fe_test = df_fe_test.iloc[:, 1:].values\n",
    "\n",
    "X_fe_train, X_fe_valid, y_fe_train, y_fe_valid = train_test_split(X_fe, y_fe, test_size=0.3, random_state=42)\n",
    "\n",
    "rfc_fe = RandomForestClassifier(max_depth=7, min_samples_leaf=1, n_estimators=100, n_jobs=-1, random_state=42)\n",
    "rfc_fe.fit(X_fe_train, y_fe_train)\n",
    "\n",
    "print('Train Score: {}'.format(round(rfc_fe.score(X_fe_train, y_fe_train), 3)))\n",
    "print(' Test Score: {}'.format(round(rfc_fe.score(X_fe_valid, y_fe_valid), 3)))"
   ]
  },
  {
   "cell_type": "markdown",
   "metadata": {
    "id": "r7cT8TPptBDL"
   },
   "source": [
    "　このアイデアは上手くいかず精度が下がってしまいまったので、採用しないこととします。特徴量エンジニアリングでは、このような試行錯誤を繰り返しながら特徴量を作り込んでいきます。余裕があれば、自分のアイデアを実装してみて、効果的な特徴量を見つけてみましょう。"
   ]
  },
  {
   "cell_type": "markdown",
   "metadata": {
    "id": "mz0A_mGutBDL"
   },
   "source": [
    "## 4. 様々なモデルの構築・調整\n",
    "　ベースラインモデルにはランダムフォレストを採用しましたが、機械学習モデルには他にも様々存在します。機械学習を用いたデータ分析では、用いる機械学習モデルを多様化することが重要です。なぜならそれぞれの機械学習モデルには前提としているデータの特徴があるなどして、得意不得意があったり予測に偏りがあったりするからです。こうした機械学習モデルごとの傾向は、複数のモデルを用意して**アンサンブリング**することによってキャンセルすることができます。アンサンブリングについては後で説明します。それぞれの機械学習モデルの特徴については、HJ van Veen氏の\"Winning Kaggle Competition\"にまとめられています。\n",
    "\n",
    "\"Winning Kaggle Competition\": https://www.slideshare.net/HJvanVeen/kaggle-presentation\n",
    "\n",
    "　今回はランダムフォレストの他に、ロジスティック回帰・多層パーセプトロンを作成してみます。ここではグリッドサーチやクロスバリデーションを用いたハイパーパラメータのチューニングは行いませんが、自分でデータ分析コンペティションに取り組む際にはちゃんと行うべきでしょう。  \n",
    "\n",
    "　まずはロジスティック回帰モデルです。"
   ]
  },
  {
   "cell_type": "code",
   "execution_count": 28,
   "metadata": {
    "colab": {
     "base_uri": "https://localhost:8080/",
     "height": 85
    },
    "executionInfo": {
     "elapsed": 515,
     "status": "ok",
     "timestamp": 1602691473334,
     "user": {
      "displayName": "原田珠華",
      "photoUrl": "https://lh3.googleusercontent.com/a-/AOh14GjqZi6QsQd5-kns3RDxxMOGzIOvhAl8JdV1EYpQ=s64",
      "userId": "02584508976137612386"
     },
     "user_tz": -540
    },
    "id": "JhnUR-pitBDM",
    "outputId": "79a81c84-50b0-4877-b9b7-83c39cdf76a7"
   },
   "outputs": [
    {
     "name": "stdout",
     "output_type": "stream",
     "text": [
      "Logistic Regression \n",
      "\n",
      "Train Score: 0.803\n",
      " Test Score: 0.81\n"
     ]
    }
   ],
   "source": [
    "lr = LogisticRegression(random_state=42)\n",
    "lr.fit(X_train, y_train)\n",
    "\n",
    "print('Logistic Regression \\n')\n",
    "print('Train Score: {}'.format(round(lr.score(X_train, y_train), 3)))\n",
    "print(' Test Score: {}'.format(round(lr.score(X_valid, y_valid), 3)))"
   ]
  },
  {
   "cell_type": "markdown",
   "metadata": {
    "id": "_gue76PGtBDO"
   },
   "source": [
    "　次に多層パーセプトロンモデルです。"
   ]
  },
  {
   "cell_type": "code",
   "execution_count": 29,
   "metadata": {
    "colab": {
     "base_uri": "https://localhost:8080/",
     "height": 85
    },
    "executionInfo": {
     "elapsed": 1709,
     "status": "ok",
     "timestamp": 1602691477050,
     "user": {
      "displayName": "原田珠華",
      "photoUrl": "https://lh3.googleusercontent.com/a-/AOh14GjqZi6QsQd5-kns3RDxxMOGzIOvhAl8JdV1EYpQ=s64",
      "userId": "02584508976137612386"
     },
     "user_tz": -540
    },
    "id": "fodJwWbftBDO",
    "outputId": "ced45ff0-969b-4262-cfd9-c65fff94160c"
   },
   "outputs": [
    {
     "name": "stdout",
     "output_type": "stream",
     "text": [
      "Multilayer Perceptron \n",
      "\n",
      "Train Score: 0.823\n",
      " Test Score: 0.799\n"
     ]
    }
   ],
   "source": [
    "mlpc = MLPClassifier(hidden_layer_sizes=(100, 100, 10), random_state=0)\n",
    "mlpc.fit(X_train, y_train)\n",
    "\n",
    "print('Multilayer Perceptron \\n')\n",
    "print('Train Score: {}'.format(round(mlpc.score(X_train, y_train), 3)))\n",
    "print(' Test Score: {}'.format(round(mlpc.score(X_valid, y_valid), 3)))"
   ]
  },
  {
   "cell_type": "markdown",
   "metadata": {
    "id": "xmakoWpUtBDR"
   },
   "source": [
    "　これで、ランダムフォレスト・ロジスティック回帰・多層パーセプトロンという三つのモデルが得られました。"
   ]
  },
  {
   "cell_type": "markdown",
   "metadata": {
    "id": "zfcP3v2ktBDR"
   },
   "source": [
    "## 5. モデルのアンサンブリング\n",
    "　先に述べたように、複数のモデルを**アンサンブリング**することによってより頑健なモデルとすることができます。アンサンブリングとは、複数のモデルを組み合わせて一つのモデルとすることです。アンサンブリングには、**バギング**・**ブースティング**・**スタッキング**など様々な手法がありますが、最もシンプルな手法は複数のモデルの予測値の重み付け平均を最終的な予測値とすることです。分類問題では、これは複数のモデルによる重み付け多数決となっています。  \n",
    "　今回は、単純に3つのモデルの予測値の算術平均を四捨五入して最終的な予測としましょう。ただしこれら3つのモデルは、予測値を確率として表すことができるので、この確率的な予測値の平均を用います。  \n",
    "　このような四捨五入の場合0.5が閾値となってPerishedの値を決定しますが、必ずしもその閾値は0.5が良いとは限りません。問題や評価指標によっては、より小さい値を閾値にした方が良い場合もありますし、より大きい値を閾値とした方が良い場合もあります。つまりこの点についても改良の余地は存在します。"
   ]
  },
  {
   "cell_type": "code",
   "execution_count": 30,
   "metadata": {
    "id": "0D8wIVqatBDS"
   },
   "outputs": [],
   "source": [
    "rfc_pred = rfc.predict_proba(X_test)\n",
    "lr_pred = lr.predict_proba(X_test)\n",
    "mlpc_pred = mlpc.predict_proba(X_test)\n",
    "\n",
    "pred_proba = (rfc_pred + lr_pred + mlpc_pred) / 3\n",
    "pred = pred_proba.argmax(axis=1)"
   ]
  },
  {
   "cell_type": "markdown",
   "metadata": {
    "id": "1wdh36RftBDU"
   },
   "source": [
    "　このようにして提出すべき予測値が得られました。"
   ]
  },
  {
   "cell_type": "markdown",
   "metadata": {
    "id": "o5I_MQiqtBDV"
   },
   "source": [
    "## 6. 予測の出力・提出\n",
    "　最後に得られた予測値を規定の形式に整形して、csvファイルとして出力しましょう。  \n",
    "　まず規定の形式を確認しましょう。README.ipynbでは以下のようなcsvファイルで提出するよう指示されていました。\n",
    "\n",
    "PassengerID|Perished\n",
    "---|---\n",
    "892|1\n",
    "893|0\n",
    "894|1\n",
    "…|…\n",
    "1307|1\n",
    "1308|1\n",
    "1309|1\n",
    "\n",
    "　また、gender_submission.csvがその例とされていたので、これを確認します。\\\n",
    "※ファイルの読み込み方法は自身の作業場所によって変わります。自分の環境に合わせたコード片方を選択してください。両方または自分の環境外のコードを選択するとエラーが起こるので気をつけて下さい。"
   ]
  },
  {
   "cell_type": "code",
   "execution_count": 32,
   "metadata": {},
   "outputs": [
    {
     "data": {
      "text/plain": [
       "'/Users/yoshidayuto/Desktop/40_自習/松尾研究室コンテンツ/GCI2021/ml-competition-template-titanic-master/notebooks'"
      ]
     },
     "execution_count": 32,
     "metadata": {},
     "output_type": "execute_result"
    }
   ],
   "source": [
    "pwd"
   ]
  },
  {
   "cell_type": "code",
   "execution_count": 34,
   "metadata": {
    "id": "5EABfWMvtBDV"
   },
   "outputs": [
    {
     "data": {
      "text/html": [
       "<div>\n",
       "<style scoped>\n",
       "    .dataframe tbody tr th:only-of-type {\n",
       "        vertical-align: middle;\n",
       "    }\n",
       "\n",
       "    .dataframe tbody tr th {\n",
       "        vertical-align: top;\n",
       "    }\n",
       "\n",
       "    .dataframe thead th {\n",
       "        text-align: right;\n",
       "    }\n",
       "</style>\n",
       "<table border=\"1\" class=\"dataframe\">\n",
       "  <thead>\n",
       "    <tr style=\"text-align: right;\">\n",
       "      <th></th>\n",
       "      <th>PassengerId</th>\n",
       "      <th>Perished</th>\n",
       "    </tr>\n",
       "  </thead>\n",
       "  <tbody>\n",
       "    <tr>\n",
       "      <th>0</th>\n",
       "      <td>892</td>\n",
       "      <td>1</td>\n",
       "    </tr>\n",
       "    <tr>\n",
       "      <th>1</th>\n",
       "      <td>893</td>\n",
       "      <td>0</td>\n",
       "    </tr>\n",
       "    <tr>\n",
       "      <th>2</th>\n",
       "      <td>894</td>\n",
       "      <td>1</td>\n",
       "    </tr>\n",
       "    <tr>\n",
       "      <th>3</th>\n",
       "      <td>895</td>\n",
       "      <td>1</td>\n",
       "    </tr>\n",
       "    <tr>\n",
       "      <th>4</th>\n",
       "      <td>896</td>\n",
       "      <td>0</td>\n",
       "    </tr>\n",
       "    <tr>\n",
       "      <th>...</th>\n",
       "      <td>...</td>\n",
       "      <td>...</td>\n",
       "    </tr>\n",
       "    <tr>\n",
       "      <th>413</th>\n",
       "      <td>1305</td>\n",
       "      <td>1</td>\n",
       "    </tr>\n",
       "    <tr>\n",
       "      <th>414</th>\n",
       "      <td>1306</td>\n",
       "      <td>0</td>\n",
       "    </tr>\n",
       "    <tr>\n",
       "      <th>415</th>\n",
       "      <td>1307</td>\n",
       "      <td>1</td>\n",
       "    </tr>\n",
       "    <tr>\n",
       "      <th>416</th>\n",
       "      <td>1308</td>\n",
       "      <td>1</td>\n",
       "    </tr>\n",
       "    <tr>\n",
       "      <th>417</th>\n",
       "      <td>1309</td>\n",
       "      <td>1</td>\n",
       "    </tr>\n",
       "  </tbody>\n",
       "</table>\n",
       "<p>418 rows × 2 columns</p>\n",
       "</div>"
      ],
      "text/plain": [
       "     PassengerId  Perished\n",
       "0            892         1\n",
       "1            893         0\n",
       "2            894         1\n",
       "3            895         1\n",
       "4            896         0\n",
       "..           ...       ...\n",
       "413         1305         1\n",
       "414         1306         0\n",
       "415         1307         1\n",
       "416         1308         1\n",
       "417         1309         1\n",
       "\n",
       "[418 rows x 2 columns]"
      ]
     },
     "execution_count": 34,
     "metadata": {},
     "output_type": "execute_result"
    }
   ],
   "source": [
    " # JupyterLabなどローカルで作業する場合\n",
    " # 読み込むデータが格納されたディレクトリのパス，必要に応じて変更の必要あり\n",
    "path = \"/content/drive/My Drive/Colab Notebooks/GCI_2021_Summer/Competitions/competition_1/\"\n",
    "\n",
    "submission = pd.read_csv('../data/output/sub_sample.csv')\n",
    "submission"
   ]
  },
  {
   "cell_type": "markdown",
   "metadata": {
    "id": "HxR-__pYtBDX"
   },
   "source": [
    "　提出ファイルを作成するには、このデータフレームのPerishedを上書きするのが手っ取り早いでしょう。"
   ]
  },
  {
   "cell_type": "code",
   "execution_count": 35,
   "metadata": {
    "colab": {
     "base_uri": "https://localhost:8080/",
     "height": 34
    },
    "executionInfo": {
     "elapsed": 480,
     "status": "ok",
     "timestamp": 1602691510366,
     "user": {
      "displayName": "原田珠華",
      "photoUrl": "https://lh3.googleusercontent.com/a-/AOh14GjqZi6QsQd5-kns3RDxxMOGzIOvhAl8JdV1EYpQ=s64",
      "userId": "02584508976137612386"
     },
     "user_tz": -540
    },
    "id": "xgleuw0xtBDY",
    "outputId": "7102a3e5-e3b6-4927-cff9-5359dedbca3a"
   },
   "outputs": [
    {
     "data": {
      "text/plain": [
       "(418,)"
      ]
     },
     "execution_count": 35,
     "metadata": {},
     "output_type": "execute_result"
    }
   ],
   "source": [
    "pred.shape"
   ]
  },
  {
   "cell_type": "code",
   "execution_count": 34,
   "metadata": {
    "colab": {
     "base_uri": "https://localhost:8080/",
     "height": 419
    },
    "executionInfo": {
     "elapsed": 488,
     "status": "ok",
     "timestamp": 1602691512039,
     "user": {
      "displayName": "原田珠華",
      "photoUrl": "https://lh3.googleusercontent.com/a-/AOh14GjqZi6QsQd5-kns3RDxxMOGzIOvhAl8JdV1EYpQ=s64",
      "userId": "02584508976137612386"
     },
     "user_tz": -540
    },
    "id": "vuGV7Z_etBDa",
    "outputId": "0876dfc2-6994-4799-9c1f-6786b08e9ed0"
   },
   "outputs": [
    {
     "data": {
      "text/html": [
       "<div>\n",
       "<style scoped>\n",
       "    .dataframe tbody tr th:only-of-type {\n",
       "        vertical-align: middle;\n",
       "    }\n",
       "\n",
       "    .dataframe tbody tr th {\n",
       "        vertical-align: top;\n",
       "    }\n",
       "\n",
       "    .dataframe thead th {\n",
       "        text-align: right;\n",
       "    }\n",
       "</style>\n",
       "<table border=\"1\" class=\"dataframe\">\n",
       "  <thead>\n",
       "    <tr style=\"text-align: right;\">\n",
       "      <th></th>\n",
       "      <th>PassengerId</th>\n",
       "      <th>Perished</th>\n",
       "    </tr>\n",
       "  </thead>\n",
       "  <tbody>\n",
       "    <tr>\n",
       "      <th>0</th>\n",
       "      <td>892</td>\n",
       "      <td>1</td>\n",
       "    </tr>\n",
       "    <tr>\n",
       "      <th>1</th>\n",
       "      <td>893</td>\n",
       "      <td>1</td>\n",
       "    </tr>\n",
       "    <tr>\n",
       "      <th>2</th>\n",
       "      <td>894</td>\n",
       "      <td>1</td>\n",
       "    </tr>\n",
       "    <tr>\n",
       "      <th>3</th>\n",
       "      <td>895</td>\n",
       "      <td>1</td>\n",
       "    </tr>\n",
       "    <tr>\n",
       "      <th>4</th>\n",
       "      <td>896</td>\n",
       "      <td>0</td>\n",
       "    </tr>\n",
       "    <tr>\n",
       "      <th>...</th>\n",
       "      <td>...</td>\n",
       "      <td>...</td>\n",
       "    </tr>\n",
       "    <tr>\n",
       "      <th>413</th>\n",
       "      <td>1305</td>\n",
       "      <td>1</td>\n",
       "    </tr>\n",
       "    <tr>\n",
       "      <th>414</th>\n",
       "      <td>1306</td>\n",
       "      <td>0</td>\n",
       "    </tr>\n",
       "    <tr>\n",
       "      <th>415</th>\n",
       "      <td>1307</td>\n",
       "      <td>1</td>\n",
       "    </tr>\n",
       "    <tr>\n",
       "      <th>416</th>\n",
       "      <td>1308</td>\n",
       "      <td>1</td>\n",
       "    </tr>\n",
       "    <tr>\n",
       "      <th>417</th>\n",
       "      <td>1309</td>\n",
       "      <td>1</td>\n",
       "    </tr>\n",
       "  </tbody>\n",
       "</table>\n",
       "<p>418 rows × 2 columns</p>\n",
       "</div>"
      ],
      "text/plain": [
       "     PassengerId  Perished\n",
       "0            892         1\n",
       "1            893         1\n",
       "2            894         1\n",
       "3            895         1\n",
       "4            896         0\n",
       "..           ...       ...\n",
       "413         1305         1\n",
       "414         1306         0\n",
       "415         1307         1\n",
       "416         1308         1\n",
       "417         1309         1\n",
       "\n",
       "[418 rows x 2 columns]"
      ]
     },
     "execution_count": 34,
     "metadata": {},
     "output_type": "execute_result"
    }
   ],
   "source": [
    "submission['Perished'] = pred\n",
    "submission"
   ]
  },
  {
   "cell_type": "markdown",
   "metadata": {
    "id": "qnqEpdxYtBDd"
   },
   "source": [
    "　これをcsvファイルとして出力すれば、提出ファイルの完成です。\\\n",
    "※csvファイル書き出しの方法は自身の作業場所によって変わります。自分の環境に合わせたコード片方を選択してください。両方または自分の環境外のコードを選択するとエラーが起こります。"
   ]
  },
  {
   "cell_type": "code",
   "execution_count": 36,
   "metadata": {
    "id": "hzwgMB1XtBDd"
   },
   "outputs": [],
   "source": [
    "# JupyterLabなどローカルで作業する場合\n",
    "# パスは必要に応じて変更の必要あり\n",
    "submission.to_csv('../submission.csv', index=False)"
   ]
  },
  {
   "cell_type": "markdown",
   "metadata": {
    "id": "Y2ObKvbltBDo"
   },
   "source": [
    "　この提出ファイルをOmnicampus上で提出してみましょう。本デモンストレーションはこれにて以上です。入門者の方もこのデモンストレーションをベースとするなどし、自分の工夫を一つでも多く加えてみて、スコアと順位の向上を目指してみてください。"
   ]
  },
  {
   "cell_type": "code",
   "execution_count": 36,
   "metadata": {
    "id": "jikl62H8Qwrl"
   },
   "outputs": [],
   "source": [
    "import datetime"
   ]
  },
  {
   "cell_type": "code",
   "execution_count": null,
   "metadata": {},
   "outputs": [],
   "source": []
  }
 ],
 "metadata": {
  "colab": {
   "collapsed_sections": [],
   "name": "professional.ipynb",
   "provenance": [
    {
     "file_id": "1ScQtqBkqB7tz7BV4go-3qWePxvhEwMU-",
     "timestamp": 1601900409309
    }
   ]
  },
  "kernelspec": {
   "display_name": "Python 3",
   "language": "python",
   "name": "python3"
  },
  "language_info": {
   "codemirror_mode": {
    "name": "ipython",
    "version": 3
   },
   "file_extension": ".py",
   "mimetype": "text/x-python",
   "name": "python",
   "nbconvert_exporter": "python",
   "pygments_lexer": "ipython3",
   "version": "3.8.3"
  }
 },
 "nbformat": 4,
 "nbformat_minor": 4
}
